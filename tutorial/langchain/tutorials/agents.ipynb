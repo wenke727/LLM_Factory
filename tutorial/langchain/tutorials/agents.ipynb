{
 "cells": [
  {
   "cell_type": "raw",
   "id": "17546ebb",
   "metadata": {
    "vscode": {
     "languageId": "raw"
    }
   },
   "source": [
    "---\n",
    "keywords: [agent, agents]\n",
    "---"
   ]
  },
  {
   "cell_type": "markdown",
   "id": "1df78a71",
   "metadata": {},
   "source": [
    "# Build an Agent\n",
    "\n",
    "By themselves, language models can't take actions - they just output text.\n",
    "A big use case for LangChain is creating **agents**.\n",
    "Agents are systems that use LLMs as reasoning engines to determine which actions to take and the inputs to pass them.\n",
    "After executing actions, the results can be fed back into the LLM to determine whether more actions are needed, or whether it is okay to finish.\n",
    "\n",
    "In this tutorial we will build an agent that can interact with a search engine. You will be able to ask this agent questions, watch it call the search tool, and have conversations with it."
   ]
  },
  {
   "cell_type": "markdown",
   "id": "a0ddb632",
   "metadata": {},
   "source": [
    "## 1. Concepts\n",
    "\n",
    "In following this tutorial, you will learn how to:\n",
    "\n",
    "- Use [language models](/docs/concepts/#chat-models), in particular their tool calling ability\n",
    "- Use a Search [Tool](/docs/concepts/#tools) to look up information from the Internet\n",
    "- Compose a [LangGraph Agent](/docs/concepts/#agents), which use an LLM to determine actions and then execute them\n",
    "- Debug and trace your application using [LangSmith](/docs/concepts/#langsmith)\n"
   ]
  },
  {
   "cell_type": "markdown",
   "id": "fb26e8c6",
   "metadata": {},
   "source": [
    "\n",
    "## 2. End-to-end agent"
   ]
  },
  {
   "cell_type": "markdown",
   "id": "c09256ab",
   "metadata": {},
   "source": [
    "The code snippet below represents a fully functional agent that uses an LLM to decide which tools to use. It is equipped with a generic search tool. It has conversational memory - meaning that it can be used as a multi-turn chatbot.\n",
    "\n",
    "In the rest of the guide, we will walk through the individual components and what each part does - but if you want to just grab some code and get started, feel free to use this!"
   ]
  },
  {
   "cell_type": "code",
   "execution_count": 1,
   "id": "a79bb782",
   "metadata": {},
   "outputs": [
    {
     "data": {
      "text/plain": [
       "CompiledStateGraph(nodes={'__start__': PregelNode(config={'tags': ['langsmith:hidden']}, channels=['__start__'], triggers=['__start__'], writers=[ChannelWrite<messages>(recurse=True, writes=[ChannelWriteEntry(channel='messages', value=<object object at 0x7fce391a3ad0>, skip_none=False, mapper=_get_state_key(recurse=False))], require_at_least_one_of=['messages']), ChannelWrite<start:agent>(recurse=True, writes=[ChannelWriteEntry(channel='start:agent', value='__start__', skip_none=False, mapper=None)], require_at_least_one_of=None)]), 'agent': PregelNode(config={'tags': []}, channels={'messages': 'messages', 'is_last_step': <class 'langgraph.managed.is_last_step.IsLastStepManager'>}, triggers=['start:agent', 'tools'], mapper=functools.partial(<function _coerce_state at 0x7fce395ba700>, <class 'langgraph.prebuilt.chat_agent_executor.AgentState'>), writers=[ChannelWrite<agent,messages>(recurse=True, writes=[ChannelWriteEntry(channel='agent', value='agent', skip_none=False, mapper=None), ChannelWriteEntry(channel='messages', value=<object object at 0x7fce391a3ad0>, skip_none=False, mapper=_get_state_key(recurse=False))], require_at_least_one_of=['messages']), _route(recurse=True, _is_channel_writer=True)]), 'tools': PregelNode(config={'tags': []}, channels={'messages': 'messages', 'is_last_step': <class 'langgraph.managed.is_last_step.IsLastStepManager'>}, triggers=['branch:agent:should_continue:tools'], mapper=functools.partial(<function _coerce_state at 0x7fce395ba700>, <class 'langgraph.prebuilt.chat_agent_executor.AgentState'>), writers=[ChannelWrite<tools,messages>(recurse=True, writes=[ChannelWriteEntry(channel='tools', value='tools', skip_none=False, mapper=None), ChannelWriteEntry(channel='messages', value=<object object at 0x7fce391a3ad0>, skip_none=False, mapper=_get_state_key(recurse=False))], require_at_least_one_of=['messages'])])}, channels={'messages': <langgraph.channels.binop.BinaryOperatorAggregate object at 0x7fce390e86a0>, '__start__': <langgraph.channels.ephemeral_value.EphemeralValue object at 0x7fce390e8f10>, 'agent': <langgraph.channels.ephemeral_value.EphemeralValue object at 0x7fce390e8e20>, 'tools': <langgraph.channels.ephemeral_value.EphemeralValue object at 0x7fce390e8d60>, 'start:agent': <langgraph.channels.ephemeral_value.EphemeralValue object at 0x7fce390e8ee0>, 'branch:agent:should_continue:tools': <langgraph.channels.ephemeral_value.EphemeralValue object at 0x7fce390e8ac0>}, auto_validate=False, stream_mode='updates', output_channels=['messages'], stream_channels=['messages'], input_channels='__start__', checkpointer=<langgraph.checkpoint.sqlite.SqliteSaver object at 0x7fce37560e20>, builder=<langgraph.graph.state.StateGraph object at 0x7fce390e8700>)"
      ]
     },
     "execution_count": 1,
     "metadata": {},
     "output_type": "execute_result"
    }
   ],
   "source": [
    "import json\n",
    "from dotenv import load_dotenv\n",
    "load_dotenv('.env', verbose=True)\n",
    "\n",
    "# Import relevant functionality\n",
    "import langgraph\n",
    "from langchain_openai import ChatOpenAI\n",
    "from langchain_community.tools.tavily_search import TavilySearchResults\n",
    "from langchain_core.messages import HumanMessage, AIMessage\n",
    "from langgraph.checkpoint.sqlite import SqliteSaver\n",
    "from langgraph.prebuilt import create_react_agent\n",
    "\n",
    "# Create the agent\n",
    "memory = SqliteSaver.from_conn_string(\":memory:\")\n",
    "model = ChatOpenAI(model_name=\"gpt-4o\")\n",
    "search = TavilySearchResults(max_results=2)\n",
    "tools = [search]\n",
    "agent_executor = create_react_agent(model, tools, checkpointer=memory)\n",
    "\n",
    "agent_executor\n"
   ]
  },
  {
   "cell_type": "code",
   "execution_count": 2,
   "id": "6329a8d2",
   "metadata": {},
   "outputs": [
    {
     "name": "stdout",
     "output_type": "stream",
     "text": [
      "{'agent': {'messages': [AIMessage(content=\"Hi Bob! It's great to meet you. How can I assist you today?\", response_metadata={'token_usage': {'completion_tokens': 17, 'prompt_tokens': 89, 'total_tokens': 106}, 'model_name': 'gpt-4o', 'system_fingerprint': 'fp_319be4768e', 'finish_reason': 'stop', 'logprobs': None}, id='run-cdba9819-2862-421e-93ff-83623a4914f8-0')]}}\n",
      "----\n"
     ]
    }
   ],
   "source": [
    "# Use the agent\n",
    "config = {\"configurable\": {\"thread_id\": \"agent_end_2_end\"}}\n",
    "for chunk in agent_executor.stream(\n",
    "    {\"messages\": [HumanMessage(content=\"hi im bob! and i live in shenzhen\")]}, config\n",
    "):\n",
    "    print(chunk)\n",
    "    print(\"----\")\n"
   ]
  },
  {
   "cell_type": "code",
   "execution_count": 3,
   "id": "88dbb9fd",
   "metadata": {},
   "outputs": [
    {
     "name": "stdout",
     "output_type": "stream",
     "text": [
      "{'agent': {'messages': [AIMessage(content='', additional_kwargs={'tool_calls': [{'id': 'call_hDY06FJzZsEztfQzbVgP5l9g', 'function': {'arguments': '{\"query\":\"current weather in Shenzhen\"}', 'name': 'tavily_search_results_json'}, 'type': 'function'}]}, response_metadata={'token_usage': {'completion_tokens': 21, 'prompt_tokens': 121, 'total_tokens': 142}, 'model_name': 'gpt-4o', 'system_fingerprint': 'fp_319be4768e', 'finish_reason': 'tool_calls', 'logprobs': None}, id='run-b468a49e-3b29-4c3d-b179-d62271ac037d-0', tool_calls=[{'name': 'tavily_search_results_json', 'args': {'query': 'current weather in Shenzhen'}, 'id': 'call_hDY06FJzZsEztfQzbVgP5l9g'}])]}}\n",
      "----\n",
      "{'tools': {'messages': [ToolMessage(content='[{\"url\": \"https://www.weatherapi.com/\", \"content\": \"{\\'location\\': {\\'name\\': \\'Shenzhen\\', \\'region\\': \\'Guangdong\\', \\'country\\': \\'China\\', \\'lat\\': 22.53, \\'lon\\': 114.13, \\'tz_id\\': \\'Asia/Hong_Kong\\', \\'localtime_epoch\\': 1717858092, \\'localtime\\': \\'2024-06-08 22:48\\'}, \\'current\\': {\\'last_updated_epoch\\': 1717857900, \\'last_updated\\': \\'2024-06-08 22:45\\', \\'temp_c\\': 26.1, \\'temp_f\\': 79.0, \\'is_day\\': 0, \\'condition\\': {\\'text\\': \\'Light rain\\', \\'icon\\': \\'//cdn.weatherapi.com/weather/64x64/night/296.png\\', \\'code\\': 1183}, \\'wind_mph\\': 6.9, \\'wind_kph\\': 11.2, \\'wind_degree\\': 160, \\'wind_dir\\': \\'SSE\\', \\'pressure_mb\\': 1007.0, \\'pressure_in\\': 29.74, \\'precip_mm\\': 0.1, \\'precip_in\\': 0.0, \\'humidity\\': 94, \\'cloud\\': 75, \\'feelslike_c\\': 29.8, \\'feelslike_f\\': 85.7, \\'windchill_c\\': 25.9, \\'windchill_f\\': 78.6, \\'heatindex_c\\': 29.4, \\'heatindex_f\\': 84.9, \\'dewpoint_c\\': 24.3, \\'dewpoint_f\\': 75.7, \\'vis_km\\': 8.0, \\'vis_miles\\': 4.0, \\'uv\\': 1.0, \\'gust_mph\\': 8.4, \\'gust_kph\\': 13.5}}\"}, {\"url\": \"https://world-weather.info/forecast/china/shenzhen/june-2024/\", \"content\": \"Extended weather forecast in Shenzhen. Hourly Week 10 days 14 days 30 days Year. Detailed \\\\u26a1 Shenzhen Weather Forecast for June 2024 - day/night \\\\ud83c\\\\udf21\\\\ufe0f temperatures, precipitations - World-Weather.info.\"}]', name='tavily_search_results_json', tool_call_id='call_hDY06FJzZsEztfQzbVgP5l9g')]}}\n",
      "----\n",
      "{'agent': {'messages': [AIMessage(content='The current weather in Shenzhen is as follows:\\n\\n- **Temperature:** 26.1°C (79.0°F)\\n- **Condition:** Light rain\\n- **Humidity:** 94%\\n- **Wind:** 11.2 km/h (6.9 mph) from the SSE\\n- **Visibility:** 8 km (4 miles)\\n- **Feels like:** 29.8°C (85.7°F)\\n\\n![Weather Icon](//cdn.weatherapi.com/weather/64x64/night/296.png)\\n\\nIf you need more detailed weather forecasts or updates, you can check resources like [WeatherAPI](https://www.weatherapi.com/) or [World-Weather](https://world-weather.info/forecast/china/shenzhen/june-2024/).', response_metadata={'token_usage': {'completion_tokens': 155, 'prompt_tokens': 642, 'total_tokens': 797}, 'model_name': 'gpt-4o', 'system_fingerprint': 'fp_319be4768e', 'finish_reason': 'stop', 'logprobs': None}, id='run-0bbde509-08ba-48b9-b66a-3bcfe07d1710-0')]}}\n",
      "----\n"
     ]
    }
   ],
   "source": [
    "\n",
    "for chunk in agent_executor.stream(\n",
    "    {\"messages\": [HumanMessage(content=\"whats the weather where I live?\")]}, config\n",
    "):\n",
    "    print(chunk)\n",
    "    print(\"----\")"
   ]
  },
  {
   "cell_type": "markdown",
   "id": "f4c03f40-1328-412d-8a48-1db0cd481b77",
   "metadata": {},
   "source": [
    "## 3. Setup"
   ]
  },
  {
   "cell_type": "markdown",
   "id": "8f92cfc8",
   "metadata": {},
   "source": [
    "### Jupyter Notebook\n",
    "\n",
    "This guide (and most of the other guides in the documentation) uses [Jupyter notebooks](https://jupyter.org/) and assumes the reader is as well. Jupyter notebooks are perfect interactive environments for learning how to work with LLM systems because oftentimes things can go wrong (unexpected output, API down, etc), and observing these cases is a great way to better understand building with LLMs.\n",
    "\n",
    "This and other tutorials are perhaps most conveniently run in a Jupyter notebook. See [here](https://jupyter.org/install) for instructions on how to install.\n"
   ]
  },
  {
   "cell_type": "markdown",
   "id": "c5f7109e",
   "metadata": {},
   "source": [
    "### Installation\n",
    "\n",
    "To install LangChain run:"
   ]
  },
  {
   "cell_type": "code",
   "execution_count": 4,
   "id": "60bb3eb1",
   "metadata": {},
   "outputs": [],
   "source": [
    "# %pip install -U langchain-community langgraph langchain-anthropic tavily-python"
   ]
  },
  {
   "cell_type": "markdown",
   "id": "2ee337ae",
   "metadata": {},
   "source": [
    "For more details, see our [Installation guide](/docs/how_to/installation).\n",
    "\n",
    "### LangSmith\n",
    "\n",
    "Many of the applications you build with LangChain will contain multiple steps with multiple invocations of LLM calls.\n",
    "As these applications get more and more complex, it becomes crucial to be able to inspect what exactly is going on inside your chain or agent.\n",
    "The best way to do this is with [LangSmith](https://smith.langchain.com).\n",
    "\n",
    "After you sign up at the link above, make sure to set your environment variables to start logging traces:\n"
   ]
  },
  {
   "cell_type": "markdown",
   "id": "c335d1bf",
   "metadata": {},
   "source": [
    "## 4. Define tools\n"
   ]
  },
  {
   "cell_type": "markdown",
   "id": "d90ffe07",
   "metadata": {},
   "source": [
    "We first need to create the tools we want to use. Our main tool of choice will be [Tavily](/docs/integrations/tools/tavily_search) - a search engine. We have a built-in tool in LangChain to easily use Tavily search engine as tool."
   ]
  },
  {
   "cell_type": "code",
   "execution_count": 5,
   "id": "482ce13d",
   "metadata": {},
   "outputs": [
    {
     "name": "stdout",
     "output_type": "stream",
     "text": [
      "[{'url': 'https://www.weatherapi.com/', 'content': \"{'location': {'name': 'San Francisco', 'region': 'California', 'country': 'United States of America', 'lat': 37.78, 'lon': -122.42, 'tz_id': 'America/Los_Angeles', 'localtime_epoch': 1717858080, 'localtime': '2024-06-08 7:48'}, 'current': {'last_updated_epoch': 1717857900, 'last_updated': '2024-06-08 07:45', 'temp_c': 12.8, 'temp_f': 55.0, 'is_day': 1, 'condition': {'text': 'Overcast', 'icon': '//cdn.weatherapi.com/weather/64x64/day/122.png', 'code': 1009}, 'wind_mph': 13.6, 'wind_kph': 22.0, 'wind_degree': 250, 'wind_dir': 'WSW', 'pressure_mb': 1012.0, 'pressure_in': 29.89, 'precip_mm': 0.0, 'precip_in': 0.0, 'humidity': 96, 'cloud': 100, 'feelslike_c': 11.4, 'feelslike_f': 52.6, 'windchill_c': 10.6, 'windchill_f': 51.1, 'heatindex_c': 12.0, 'heatindex_f': 53.6, 'dewpoint_c': 10.1, 'dewpoint_f': 50.1, 'vis_km': 16.0, 'vis_miles': 9.0, 'uv': 4.0, 'gust_mph': 18.1, 'gust_kph': 29.2}}\"}, {'url': 'https://forecast.weather.gov/MapClick.php?textField1=37.78&textField2=-122.42', 'content': 'Extended Forecast for San Francisco CA . Tonight. Low: 52 °F. Mostly Clear. Saturday. High: 67 °F. Sunny. Saturday Night. Low: 54 °F. ... 2024-6pm PDT Jun 7, 2024 . ... Additional Resources. Radar & Satellite Image. Hourly Weather Forecast. National Digital Forecast Database. High Temperature. Chance of Precipitation. ACTIVE ALERTS Toggle ...'}]\n"
     ]
    }
   ],
   "source": [
    "from langchain_community.tools.tavily_search import TavilySearchResults\n",
    "\n",
    "search = TavilySearchResults(max_results=2)\n",
    "search_results = search.invoke(\"what is the weather in SF\")\n",
    "print(search_results)\n",
    "# If we want, we can create other tools.\n",
    "# Once we have all the tools we want, we can put them in a list that we will reference later.\n",
    "tools = [search]"
   ]
  },
  {
   "cell_type": "code",
   "execution_count": 6,
   "id": "87f01fcb",
   "metadata": {},
   "outputs": [
    {
     "data": {
      "text/plain": [
       "[{'url': 'https://www.weatherapi.com/',\n",
       "  'content': \"{'location': {'name': 'San Francisco', 'region': 'California', 'country': 'United States of America', 'lat': 37.78, 'lon': -122.42, 'tz_id': 'America/Los_Angeles', 'localtime_epoch': 1717858080, 'localtime': '2024-06-08 7:48'}, 'current': {'last_updated_epoch': 1717857900, 'last_updated': '2024-06-08 07:45', 'temp_c': 12.8, 'temp_f': 55.0, 'is_day': 1, 'condition': {'text': 'Overcast', 'icon': '//cdn.weatherapi.com/weather/64x64/day/122.png', 'code': 1009}, 'wind_mph': 13.6, 'wind_kph': 22.0, 'wind_degree': 250, 'wind_dir': 'WSW', 'pressure_mb': 1012.0, 'pressure_in': 29.89, 'precip_mm': 0.0, 'precip_in': 0.0, 'humidity': 96, 'cloud': 100, 'feelslike_c': 11.4, 'feelslike_f': 52.6, 'windchill_c': 10.6, 'windchill_f': 51.1, 'heatindex_c': 12.0, 'heatindex_f': 53.6, 'dewpoint_c': 10.1, 'dewpoint_f': 50.1, 'vis_km': 16.0, 'vis_miles': 9.0, 'uv': 4.0, 'gust_mph': 18.1, 'gust_kph': 29.2}}\"},\n",
       " {'url': 'https://forecast.weather.gov/MapClick.php?textField1=37.78&textField2=-122.42',\n",
       "  'content': 'Extended Forecast for San Francisco CA . Tonight. Low: 52 °F. Mostly Clear. Saturday. High: 67 °F. Sunny. Saturday Night. Low: 54 °F. ... 2024-6pm PDT Jun 7, 2024 . ... Additional Resources. Radar & Satellite Image. Hourly Weather Forecast. National Digital Forecast Database. High Temperature. Chance of Precipitation. ACTIVE ALERTS Toggle ...'}]"
      ]
     },
     "execution_count": 6,
     "metadata": {},
     "output_type": "execute_result"
    }
   ],
   "source": [
    "search_results"
   ]
  },
  {
   "cell_type": "markdown",
   "id": "e00068b0",
   "metadata": {},
   "source": [
    "## 5. Using Language Models\n"
   ]
  },
  {
   "cell_type": "markdown",
   "id": "4bc367b7",
   "metadata": {},
   "source": [
    "Next, let's learn how to use a language model by to call tools. LangChain supports many different language models that you can use interchangably - select the one you want to use below!\n"
   ]
  },
  {
   "cell_type": "code",
   "execution_count": 7,
   "id": "69185491",
   "metadata": {},
   "outputs": [
    {
     "data": {
      "text/plain": [
       "ChatOpenAI(client=<openai.resources.chat.completions.Completions object at 0x7fce39f96d30>, async_client=<openai.resources.chat.completions.AsyncCompletions object at 0x7fce396a73a0>, model_name='gpt-4o', openai_api_key=SecretStr('**********'), openai_proxy='')"
      ]
     },
     "execution_count": 7,
     "metadata": {},
     "output_type": "execute_result"
    }
   ],
   "source": [
    "from langchain_openai import ChatOpenAI\n",
    "\n",
    "model = ChatOpenAI(model=\"gpt-4o\")\n",
    "model"
   ]
  },
  {
   "cell_type": "markdown",
   "id": "642ed8bf",
   "metadata": {},
   "source": [
    "You can call the language model by passing in a list of messages. By default, the response is a `content` string."
   ]
  },
  {
   "cell_type": "code",
   "execution_count": 8,
   "id": "c96c960b",
   "metadata": {},
   "outputs": [
    {
     "data": {
      "text/plain": [
       "'Hello! How can I assist you today?'"
      ]
     },
     "execution_count": 8,
     "metadata": {},
     "output_type": "execute_result"
    }
   ],
   "source": [
    "from langchain_core.messages import HumanMessage\n",
    "\n",
    "response = model.invoke([HumanMessage(content=\"hi!\")])\n",
    "response.content"
   ]
  },
  {
   "cell_type": "markdown",
   "id": "47bf8210",
   "metadata": {},
   "source": [
    "We can now see what it is like to enable this model to do tool calling. In order to enable that we use `.bind_tools` to give the language model knowledge of these tools"
   ]
  },
  {
   "cell_type": "code",
   "execution_count": 9,
   "id": "ba692a74",
   "metadata": {},
   "outputs": [
    {
     "data": {
      "text/plain": [
       "RunnableBinding(bound=ChatOpenAI(client=<openai.resources.chat.completions.Completions object at 0x7fce39f96d30>, async_client=<openai.resources.chat.completions.AsyncCompletions object at 0x7fce396a73a0>, model_name='gpt-4o', openai_api_key=SecretStr('**********'), openai_proxy=''), kwargs={'tools': [{'type': 'function', 'function': {'name': 'tavily_search_results_json', 'description': 'A search engine optimized for comprehensive, accurate, and trusted results. Useful for when you need to answer questions about current events. Input should be a search query.', 'parameters': {'type': 'object', 'properties': {'query': {'description': 'search query to look up', 'type': 'string'}}, 'required': ['query']}}}]})"
      ]
     },
     "execution_count": 9,
     "metadata": {},
     "output_type": "execute_result"
    }
   ],
   "source": [
    "model_with_tools = model.bind_tools(tools)\n",
    "model_with_tools"
   ]
  },
  {
   "cell_type": "code",
   "execution_count": 10,
   "id": "f7468793",
   "metadata": {},
   "outputs": [
    {
     "data": {
      "text/plain": [
       "{'tools': [{'type': 'function',\n",
       "   'function': {'name': 'tavily_search_results_json',\n",
       "    'description': 'A search engine optimized for comprehensive, accurate, and trusted results. Useful for when you need to answer questions about current events. Input should be a search query.',\n",
       "    'parameters': {'type': 'object',\n",
       "     'properties': {'query': {'description': 'search query to look up',\n",
       "       'type': 'string'}},\n",
       "     'required': ['query']}}}]}"
      ]
     },
     "execution_count": 10,
     "metadata": {},
     "output_type": "execute_result"
    }
   ],
   "source": [
    "model_with_tools.kwargs"
   ]
  },
  {
   "cell_type": "markdown",
   "id": "fd920b69",
   "metadata": {},
   "source": [
    "We can now call the model. Let's first call it with a normal message, and see how it responds. We can look at both the `content` field as well as the `tool_calls` field."
   ]
  },
  {
   "cell_type": "code",
   "execution_count": 11,
   "id": "b6a7e925",
   "metadata": {},
   "outputs": [
    {
     "name": "stdout",
     "output_type": "stream",
     "text": [
      "ContentString: Hello! How can I assist you today?\n",
      "ToolCalls: []\n"
     ]
    }
   ],
   "source": [
    "response = model_with_tools.invoke([HumanMessage(content=\"Hi!\")])\n",
    "\n",
    "print(f\"ContentString: {response.content}\")\n",
    "print(f\"ToolCalls: {response.tool_calls}\")"
   ]
  },
  {
   "cell_type": "markdown",
   "id": "e8c81e76",
   "metadata": {},
   "source": [
    "Now, let's try calling it with some input that would expect a tool to be called."
   ]
  },
  {
   "cell_type": "code",
   "execution_count": 12,
   "id": "688b465d",
   "metadata": {},
   "outputs": [
    {
     "name": "stdout",
     "output_type": "stream",
     "text": [
      "ContentString: \n",
      "ToolCalls: [{'name': 'tavily_search_results_json', 'args': {'query': 'current weather in Shenzhen'}, 'id': 'call_FCXcsGV6MhaxMQj6cjit1TvQ'}]\n"
     ]
    }
   ],
   "source": [
    "response = model_with_tools.invoke([HumanMessage(content=\"What's the weather in Shenzhen?\")])\n",
    "\n",
    "print(f\"ContentString: {response.content}\")\n",
    "print(f\"ToolCalls: {response.tool_calls}\")"
   ]
  },
  {
   "cell_type": "code",
   "execution_count": 13,
   "id": "853cf395",
   "metadata": {},
   "outputs": [
    {
     "data": {
      "text/plain": [
       "{'content': '',\n",
       " 'additional_kwargs': {'tool_calls': [{'id': 'call_FCXcsGV6MhaxMQj6cjit1TvQ',\n",
       "    'function': {'arguments': '{\"query\":\"current weather in Shenzhen\"}',\n",
       "     'name': 'tavily_search_results_json'},\n",
       "    'type': 'function'}]},\n",
       " 'response_metadata': {'token_usage': {'completion_tokens': 21,\n",
       "   'prompt_tokens': 85,\n",
       "   'total_tokens': 106},\n",
       "  'model_name': 'gpt-4o',\n",
       "  'system_fingerprint': 'fp_319be4768e',\n",
       "  'finish_reason': 'tool_calls',\n",
       "  'logprobs': None},\n",
       " 'type': 'ai',\n",
       " 'name': None,\n",
       " 'id': 'run-d0f0628b-b34d-425e-8181-c2717426f6ad-0',\n",
       " 'example': False,\n",
       " 'tool_calls': [{'name': 'tavily_search_results_json',\n",
       "   'args': {'query': 'current weather in Shenzhen'},\n",
       "   'id': 'call_FCXcsGV6MhaxMQj6cjit1TvQ'}],\n",
       " 'invalid_tool_calls': [],\n",
       " 'usage_metadata': None}"
      ]
     },
     "execution_count": 13,
     "metadata": {},
     "output_type": "execute_result"
    }
   ],
   "source": [
    "json.loads(response.json())\n"
   ]
  },
  {
   "cell_type": "markdown",
   "id": "83c4bcd3",
   "metadata": {},
   "source": [
    "We can see that there's now no text content, but there is a tool call! It wants us to call the Tavily Search tool.\n",
    "\n",
    "This isn't calling that tool yet - it's just telling us to. In order to actually calll it, we'll want to create our agent."
   ]
  },
  {
   "cell_type": "markdown",
   "id": "40ccec80",
   "metadata": {},
   "source": [
    "## 6. Create the agent\n"
   ]
  },
  {
   "cell_type": "markdown",
   "id": "fd2a401c",
   "metadata": {},
   "source": [
    "\n",
    "Now that we have defined the tools and the LLM, we can create the agent. We will be using [LangGraph](/docs/concepts/#langgraph) to construct the agent. \n",
    "Currently we are using a high level interface to construct the agent, but the nice thing about LangGraph is that this high-level interface is backed by a low-level, highly controllable API in case you want to modify the agent logic."
   ]
  },
  {
   "cell_type": "markdown",
   "id": "f8014c9d",
   "metadata": {},
   "source": [
    "Now, we can initalize the agent with the LLM and the tools.\n",
    "\n",
    "Note that we are passing in the `model`, not `model_with_tools`. That is because `create_tool_calling_executor` will call `.bind_tools` for us under the hood."
   ]
  },
  {
   "cell_type": "code",
   "execution_count": 14,
   "id": "89cf72b4-6046-4b47-8f27-5522d8cb8036",
   "metadata": {},
   "outputs": [
    {
     "data": {
      "text/plain": [
       "CompiledStateGraph(nodes={'__start__': PregelNode(config={'tags': ['langsmith:hidden']}, channels=['__start__'], triggers=['__start__'], writers=[ChannelWrite<messages>(recurse=True, writes=[ChannelWriteEntry(channel='messages', value=<object object at 0x7fce391a3ad0>, skip_none=False, mapper=_get_state_key(recurse=False))], require_at_least_one_of=['messages']), ChannelWrite<start:agent>(recurse=True, writes=[ChannelWriteEntry(channel='start:agent', value='__start__', skip_none=False, mapper=None)], require_at_least_one_of=None)]), 'agent': PregelNode(config={'tags': []}, channels={'messages': 'messages', 'is_last_step': <class 'langgraph.managed.is_last_step.IsLastStepManager'>}, triggers=['start:agent', 'tools'], mapper=functools.partial(<function _coerce_state at 0x7fce395ba700>, <class 'langgraph.prebuilt.chat_agent_executor.AgentState'>), writers=[ChannelWrite<agent,messages>(recurse=True, writes=[ChannelWriteEntry(channel='agent', value='agent', skip_none=False, mapper=None), ChannelWriteEntry(channel='messages', value=<object object at 0x7fce391a3ad0>, skip_none=False, mapper=_get_state_key(recurse=False))], require_at_least_one_of=['messages']), _route(recurse=True, _is_channel_writer=True)]), 'tools': PregelNode(config={'tags': []}, channels={'messages': 'messages', 'is_last_step': <class 'langgraph.managed.is_last_step.IsLastStepManager'>}, triggers=['branch:agent:should_continue:tools'], mapper=functools.partial(<function _coerce_state at 0x7fce395ba700>, <class 'langgraph.prebuilt.chat_agent_executor.AgentState'>), writers=[ChannelWrite<tools,messages>(recurse=True, writes=[ChannelWriteEntry(channel='tools', value='tools', skip_none=False, mapper=None), ChannelWriteEntry(channel='messages', value=<object object at 0x7fce391a3ad0>, skip_none=False, mapper=_get_state_key(recurse=False))], require_at_least_one_of=['messages'])])}, channels={'messages': <langgraph.channels.binop.BinaryOperatorAggregate object at 0x7fce39f98ee0>, '__start__': <langgraph.channels.ephemeral_value.EphemeralValue object at 0x7fce39f98c40>, 'agent': <langgraph.channels.ephemeral_value.EphemeralValue object at 0x7fce39f92640>, 'tools': <langgraph.channels.ephemeral_value.EphemeralValue object at 0x7fce39f92730>, 'start:agent': <langgraph.channels.ephemeral_value.EphemeralValue object at 0x7fce39f98eb0>, 'branch:agent:should_continue:tools': <langgraph.channels.ephemeral_value.EphemeralValue object at 0x7fce39f929d0>}, auto_validate=False, stream_mode='updates', output_channels=['messages'], stream_channels=['messages'], input_channels='__start__', builder=<langgraph.graph.state.StateGraph object at 0x7fce39f98dc0>)"
      ]
     },
     "execution_count": 14,
     "metadata": {},
     "output_type": "execute_result"
    }
   ],
   "source": [
    "from langgraph.prebuilt import create_react_agent\n",
    "\n",
    "agent_executor = create_react_agent(model, tools)\n",
    "agent_executor"
   ]
  },
  {
   "cell_type": "markdown",
   "id": "e4df0e06",
   "metadata": {},
   "source": [
    "## 7. Run the agent"
   ]
  },
  {
   "cell_type": "markdown",
   "id": "8ba6847f",
   "metadata": {},
   "source": [
    "We can now run the agent on a few queries! Note that for now, these are all **stateless** queries (it won't remember previous interactions). Note that the agent will return the **final** state at the end of the interaction (which includes any inputs, we will see later on how to get only the outputs).\n",
    "\n",
    "First up, let's see how it responds when there's no need to call a tool:"
   ]
  },
  {
   "cell_type": "code",
   "execution_count": 15,
   "id": "114ba50d",
   "metadata": {},
   "outputs": [
    {
     "data": {
      "text/plain": [
       "[HumanMessage(content='hi!', id='248bb529-0cc1-4083-9fe2-374bfc227650'),\n",
       " AIMessage(content='Hello! How can I help you today?', response_metadata={'token_usage': {'completion_tokens': 10, 'prompt_tokens': 81, 'total_tokens': 91}, 'model_name': 'gpt-4o', 'system_fingerprint': 'fp_319be4768e', 'finish_reason': 'stop', 'logprobs': None}, id='run-fd208fa8-4284-4854-ac06-6213211f01a7-0')]"
      ]
     },
     "execution_count": 15,
     "metadata": {},
     "output_type": "execute_result"
    }
   ],
   "source": [
    "response = agent_executor.invoke({\"messages\": [HumanMessage(content=\"hi!\")]})\n",
    "\n",
    "response[\"messages\"]"
   ]
  },
  {
   "cell_type": "markdown",
   "id": "71493a42",
   "metadata": {},
   "source": [
    "In order to see exactly what is happening under the hood (and to make sure it's not calling a tool) we can take a look at the [LangSmith trace](https://smith.langchain.com/public/28311faa-e135-4d6a-ab6b-caecf6482aaa/r)\n",
    "\n",
    "Let's now try it out on an example where it should be invoking the tool"
   ]
  },
  {
   "cell_type": "code",
   "execution_count": 16,
   "id": "77c2f769",
   "metadata": {},
   "outputs": [
    {
     "data": {
      "text/plain": [
       "[HumanMessage(content='whats the weather in Guangzhou?', id='700cf1f4-8c0a-43fd-abc8-f3d993e1109c'),\n",
       " AIMessage(content='', additional_kwargs={'tool_calls': [{'id': 'call_yqcVaPFOX2BL1cCy9FzZHELT', 'function': {'arguments': '{\"query\":\"current weather in Guangzhou\"}', 'name': 'tavily_search_results_json'}, 'type': 'function'}]}, response_metadata={'token_usage': {'completion_tokens': 21, 'prompt_tokens': 86, 'total_tokens': 107}, 'model_name': 'gpt-4o', 'system_fingerprint': 'fp_319be4768e', 'finish_reason': 'tool_calls', 'logprobs': None}, id='run-ac916010-fa3d-48f1-be86-dc1cb05b7103-0', tool_calls=[{'name': 'tavily_search_results_json', 'args': {'query': 'current weather in Guangzhou'}, 'id': 'call_yqcVaPFOX2BL1cCy9FzZHELT'}]),\n",
       " ToolMessage(content='[{\"url\": \"https://www.weatherapi.com/\", \"content\": \"{\\'location\\': {\\'name\\': \\'Guangzhou\\', \\'region\\': \\'Guangdong\\', \\'country\\': \\'China\\', \\'lat\\': 23.12, \\'lon\\': 113.25, \\'tz_id\\': \\'Asia/Shanghai\\', \\'localtime_epoch\\': 1717858110, \\'localtime\\': \\'2024-06-08 22:48\\'}, \\'current\\': {\\'last_updated_epoch\\': 1717857900, \\'last_updated\\': \\'2024-06-08 22:45\\', \\'temp_c\\': 26.0, \\'temp_f\\': 78.8, \\'is_day\\': 0, \\'condition\\': {\\'text\\': \\'Light rain shower\\', \\'icon\\': \\'//cdn.weatherapi.com/weather/64x64/night/353.png\\', \\'code\\': 1240}, \\'wind_mph\\': 4.3, \\'wind_kph\\': 6.8, \\'wind_degree\\': 60, \\'wind_dir\\': \\'ENE\\', \\'pressure_mb\\': 1007.0, \\'pressure_in\\': 29.74, \\'precip_mm\\': 2.63, \\'precip_in\\': 0.1, \\'humidity\\': 100, \\'cloud\\': 75, \\'feelslike_c\\': 29.7, \\'feelslike_f\\': 85.5, \\'windchill_c\\': 26.0, \\'windchill_f\\': 78.8, \\'heatindex_c\\': 29.7, \\'heatindex_f\\': 85.4, \\'dewpoint_c\\': 24.5, \\'dewpoint_f\\': 76.1, \\'vis_km\\': 10.0, \\'vis_miles\\': 6.0, \\'uv\\': 1.0, \\'gust_mph\\': 10.3, \\'gust_kph\\': 16.6}}\"}, {\"url\": \"https://www.ventusky.com/guangzhou\", \"content\": \"\\\\u5e7f\\\\u5dde (Guangzhou) China / Lat.: 23\\\\u00b07\\'N / Lon.: 113\\\\u00b015\\'E / Altitude: 21 m. Timezone: Asia/Shanghai (UTC+8) / Current time: 19:25 2024/06/07. Current Weather. Forecast. Sun and Moon. 26 \\\\u00b0C. Wind 7 km/h.\"}]', name='tavily_search_results_json', id='a59cbf60-9572-4a3c-b2d4-d72f324abdac', tool_call_id='call_yqcVaPFOX2BL1cCy9FzZHELT'),\n",
       " AIMessage(content='The current weather in Guangzhou is as follows:\\n\\n- Temperature: 26.0°C (78.8°F)\\n- Condition: Light rain shower\\n- Wind: 6.8 km/h (4.3 mph) from the ENE\\n- Humidity: 100%\\n- Cloud cover: 75%\\n- Feels like: 29.7°C (85.5°F)\\n- Visibility: 10 km (6 miles)\\n- UV Index: 1\\n- Gusts: 16.6 km/h (10.3 mph)\\n\\n![Weather Icon](//cdn.weatherapi.com/weather/64x64/night/353.png)\\n\\nPlease note that the time zone for Guangzhou is Asia/Shanghai (UTC+8).', response_metadata={'token_usage': {'completion_tokens': 150, 'prompt_tokens': 636, 'total_tokens': 786}, 'model_name': 'gpt-4o', 'system_fingerprint': 'fp_319be4768e', 'finish_reason': 'stop', 'logprobs': None}, id='run-f1e69c42-94a8-49ae-96eb-f830b1bed5cf-0')]"
      ]
     },
     "execution_count": 16,
     "metadata": {},
     "output_type": "execute_result"
    }
   ],
   "source": [
    "response = agent_executor.invoke(\n",
    "    {\"messages\": [HumanMessage(content=\"whats the weather in Guangzhou?\")]}\n",
    ")\n",
    "response[\"messages\"]"
   ]
  },
  {
   "cell_type": "markdown",
   "id": "c174f838",
   "metadata": {},
   "source": [
    "We can check out the [LangSmith trace](https://smith.langchain.com/public/f520839d-cd4d-4495-8764-e32b548e235d/r) to make sure it's calling the search tool effectively."
   ]
  },
  {
   "cell_type": "markdown",
   "id": "8f6ca7e4",
   "metadata": {},
   "source": [
    "## 8. Streaming Messages"
   ]
  },
  {
   "cell_type": "markdown",
   "id": "7730e37c",
   "metadata": {},
   "source": [
    "We've seen how the agent can be called with `.invoke` to get back a final response. If the agent is executing multiple steps, that may take a while. In order to show intermediate progress, we can stream back messages as they occur."
   ]
  },
  {
   "cell_type": "code",
   "execution_count": 17,
   "id": "532d6557",
   "metadata": {},
   "outputs": [
    {
     "name": "stdout",
     "output_type": "stream",
     "text": [
      "{'agent': {'messages': [AIMessage(content='', additional_kwargs={'tool_calls': [{'id': 'call_brOWkvihpimRIdNGL6iyOKOM', 'function': {'arguments': '{\"query\":\"current weather in Guangzhou\"}', 'name': 'tavily_search_results_json'}, 'type': 'function'}]}, response_metadata={'token_usage': {'completion_tokens': 21, 'prompt_tokens': 86, 'total_tokens': 107}, 'model_name': 'gpt-4o', 'system_fingerprint': 'fp_319be4768e', 'finish_reason': 'tool_calls', 'logprobs': None}, id='run-8de29c98-633c-4a2c-a95a-73d4c3cf3127-0', tool_calls=[{'name': 'tavily_search_results_json', 'args': {'query': 'current weather in Guangzhou'}, 'id': 'call_brOWkvihpimRIdNGL6iyOKOM'}])]}}\n",
      "----\n",
      "{'tools': {'messages': [ToolMessage(content='[{\"url\": \"https://www.weatherapi.com/\", \"content\": \"{\\'location\\': {\\'name\\': \\'Guangzhou\\', \\'region\\': \\'Guangdong\\', \\'country\\': \\'China\\', \\'lat\\': 23.12, \\'lon\\': 113.25, \\'tz_id\\': \\'Asia/Shanghai\\', \\'localtime_epoch\\': 1717858110, \\'localtime\\': \\'2024-06-08 22:48\\'}, \\'current\\': {\\'last_updated_epoch\\': 1717857900, \\'last_updated\\': \\'2024-06-08 22:45\\', \\'temp_c\\': 26.0, \\'temp_f\\': 78.8, \\'is_day\\': 0, \\'condition\\': {\\'text\\': \\'Light rain shower\\', \\'icon\\': \\'//cdn.weatherapi.com/weather/64x64/night/353.png\\', \\'code\\': 1240}, \\'wind_mph\\': 4.3, \\'wind_kph\\': 6.8, \\'wind_degree\\': 60, \\'wind_dir\\': \\'ENE\\', \\'pressure_mb\\': 1007.0, \\'pressure_in\\': 29.74, \\'precip_mm\\': 2.63, \\'precip_in\\': 0.1, \\'humidity\\': 100, \\'cloud\\': 75, \\'feelslike_c\\': 29.7, \\'feelslike_f\\': 85.5, \\'windchill_c\\': 26.0, \\'windchill_f\\': 78.8, \\'heatindex_c\\': 29.7, \\'heatindex_f\\': 85.4, \\'dewpoint_c\\': 24.5, \\'dewpoint_f\\': 76.1, \\'vis_km\\': 10.0, \\'vis_miles\\': 6.0, \\'uv\\': 1.0, \\'gust_mph\\': 10.3, \\'gust_kph\\': 16.6}}\"}, {\"url\": \"https://www.weathertab.com/en/c/e/08/people-s-republic-of-china/guangzhou/\", \"content\": \"Temperature Forecast Normal. Avg High Temps 85 to 95 \\\\u00b0F. Avg Low Temps 70 to 85 \\\\u00b0F. Explore comprehensive August 2024 weather forecasts for Guangzhou, including daily high and low temperatures, precipitation risks, and monthly temperature trends. Featuring detailed day-by-day forecasts, dynamic graphs of daily rain probabilities, and ...\"}]', name='tavily_search_results_json', tool_call_id='call_brOWkvihpimRIdNGL6iyOKOM')]}}\n",
      "----\n",
      "{'agent': {'messages': [AIMessage(content='The current weather in Guangzhou is as follows:\\n- **Temperature:** 26°C (78.8°F)\\n- **Condition:** Light rain shower\\n- **Wind:** 6.8 kph (4.3 mph) from the ENE\\n- **Humidity:** 100%\\n- **Feels Like:** 29.7°C (85.5°F)\\n- **Visibility:** 10 km (6 miles)\\n- **Pressure:** 1007.0 mb\\n- **UV Index:** 1 (low)\\n\\n![Weather Icon](https://cdn.weatherapi.com/weather/64x64/night/353.png)\\n\\nPlease note that these conditions are based on the most recent update.', response_metadata={'token_usage': {'completion_tokens': 140, 'prompt_tokens': 633, 'total_tokens': 773}, 'model_name': 'gpt-4o', 'system_fingerprint': 'fp_319be4768e', 'finish_reason': 'stop', 'logprobs': None}, id='run-fbbc0067-67c5-4e07-b13b-50678d008831-0')]}}\n",
      "----\n"
     ]
    }
   ],
   "source": [
    "for chunk in agent_executor.stream(\n",
    "    {\"messages\": [HumanMessage(content=\"whats the weather in Guangzhou?\")]}\n",
    "):\n",
    "    print(chunk)\n",
    "    print(\"----\")"
   ]
  },
  {
   "cell_type": "markdown",
   "id": "c72b3043",
   "metadata": {},
   "source": [
    "## 9. Streaming tokens"
   ]
  },
  {
   "cell_type": "markdown",
   "id": "9d593bf8",
   "metadata": {},
   "source": [
    "In addition to streaming back messages, it is also useful to be streaming back tokens.\n",
    "We can do this with the `.astream_events` method.\n",
    "\n",
    ":::{.callout-important}\n",
    "This `.astream_events` method only works with Python 3.11 or higher.\n",
    ":::"
   ]
  },
  {
   "cell_type": "code",
   "execution_count": 18,
   "id": "a3fb262c",
   "metadata": {},
   "outputs": [
    {
     "name": "stderr",
     "output_type": "stream",
     "text": [
      "/Users/wenke/.conda/envs/dl/lib/python3.9/site-packages/langchain_core/_api/beta_decorator.py:87: LangChainBetaWarning: This API is in beta and may change in the future.\n",
      "  warn_beta(\n"
     ]
    },
    {
     "name": "stdout",
     "output_type": "stream",
     "text": [
      "--\n",
      "Starting tool: tavily_search_results_json with inputs: {'query': 'current weather in San Francisco'}\n",
      "Done tool: tavily_search_results_json\n",
      "Tool output was: [{'url': 'https://www.weatherapi.com/', 'content': \"{'location': {'name': 'San Francisco', 'region': 'California', 'country': 'United States of America', 'lat': 37.78, 'lon': -122.42, 'tz_id': 'America/Los_Angeles', 'localtime_epoch': 1717858080, 'localtime': '2024-06-08 7:48'}, 'current': {'last_updated_epoch': 1717857900, 'last_updated': '2024-06-08 07:45', 'temp_c': 12.8, 'temp_f': 55.0, 'is_day': 1, 'condition': {'text': 'Overcast', 'icon': '//cdn.weatherapi.com/weather/64x64/day/122.png', 'code': 1009}, 'wind_mph': 13.6, 'wind_kph': 22.0, 'wind_degree': 250, 'wind_dir': 'WSW', 'pressure_mb': 1012.0, 'pressure_in': 29.89, 'precip_mm': 0.0, 'precip_in': 0.0, 'humidity': 96, 'cloud': 100, 'feelslike_c': 11.4, 'feelslike_f': 52.6, 'windchill_c': 10.6, 'windchill_f': 51.1, 'heatindex_c': 12.0, 'heatindex_f': 53.6, 'dewpoint_c': 10.1, 'dewpoint_f': 50.1, 'vis_km': 16.0, 'vis_miles': 9.0, 'uv': 4.0, 'gust_mph': 18.1, 'gust_kph': 29.2}}\"}, {'url': 'https://www.timeanddate.com/weather/usa/san-francisco/hourly', 'content': 'Weather Today Weather Hourly 14 Day Forecast Yesterday/Past Weather Climate (Averages) Currently: 64 °F. Partly sunny. (Weather station: San Francisco International Airport, USA). See more current weather.'}]\n",
      "--\n",
      "The| current| weather| in| San| Francisco| is| as| follows|:\n",
      "\n",
      "|-| **|Temperature|**|:| |12|.|8|°C| (|55|.|0|°F|)\n",
      "|-| **|Condition|**|:| Over|cast|\n",
      "|-| **|Wind|**|:| |13|.|6| mph| (|22|.|0| k|ph|)| from| the| W|SW|\n",
      "|-| **|Humidity|**|:| |96|%\n",
      "|-| **|Cloud| Cover|**|:| |100|%\n",
      "|-| **|Feels| Like|**|:| |11|.|4|°C| (|52|.|6|°F|)\n",
      "|-| **|Visibility|**|:| |16| km| (|9| miles|)\n",
      "|-| **|UV| Index|**|:| |4|\n",
      "\n",
      "|![|Weather| Icon|](|//|cdn|.weather|api|.com|/weather|/|64|x|64|/day|/|122|.png|)\n",
      "\n",
      "|For| more| details|,| you| can| check| the| weather| on| [|Weather|API|](|https|://|www|.weather|api|.com|/)| or| [|Time| and| Date|](|https|://|www|.time|and|date|.com|/weather|/|usa|/s|an|-fr|anc|isco|/hour|ly|).|"
     ]
    }
   ],
   "source": [
    "async for event in agent_executor.astream_events(\n",
    "    {\"messages\": [HumanMessage(content=\"whats the weather in sf?\")]}, version=\"v1\"\n",
    "):\n",
    "    kind = event[\"event\"]\n",
    "    if kind == \"on_chain_start\":\n",
    "        if (\n",
    "            event[\"name\"] == \"Agent\"\n",
    "        ):  # Was assigned when creating the agent with `.with_config({\"run_name\": \"Agent\"})`\n",
    "            print(\n",
    "                f\"Starting agent: {event['name']} with input: {event['data'].get('input')}\"\n",
    "            )\n",
    "    elif kind == \"on_chain_end\":\n",
    "        if (\n",
    "            event[\"name\"] == \"Agent\"\n",
    "        ):  # Was assigned when creating the agent with `.with_config({\"run_name\": \"Agent\"})`\n",
    "            print()\n",
    "            print(\"--\")\n",
    "            print(\n",
    "                f\"Done agent: {event['name']} with output: {event['data'].get('output')['output']}\"\n",
    "            )\n",
    "    if kind == \"on_chat_model_stream\":\n",
    "        content = event[\"data\"][\"chunk\"].content\n",
    "        if content:\n",
    "            # Empty content in the context of OpenAI means\n",
    "            # that the model is asking for a tool to be invoked.\n",
    "            # So we only print non-empty content\n",
    "            print(content, end=\"|\")\n",
    "    elif kind == \"on_tool_start\":\n",
    "        print(\"--\")\n",
    "        print(\n",
    "            f\"Starting tool: {event['name']} with inputs: {event['data'].get('input')}\"\n",
    "        )\n",
    "    elif kind == \"on_tool_end\":\n",
    "        print(f\"Done tool: {event['name']}\")\n",
    "        print(f\"Tool output was: {event['data'].get('output')}\")\n",
    "        print(\"--\")"
   ]
  },
  {
   "cell_type": "markdown",
   "id": "022cbc8a",
   "metadata": {},
   "source": [
    "## 10. Adding in memory"
   ]
  },
  {
   "cell_type": "markdown",
   "id": "9cf67a93",
   "metadata": {},
   "source": [
    "\n",
    "As mentioned earlier, this agent is stateless. This means it does not remember previous interactions. To give it memory we need to pass in a checkpointer. When passing in a checkpointer, we also have to pass in a `thread_id` when invoking the agent (so it knows which thread/conversation to resume from)."
   ]
  },
  {
   "cell_type": "code",
   "execution_count": 19,
   "id": "c4073e35",
   "metadata": {},
   "outputs": [],
   "source": [
    "from langgraph.checkpoint.sqlite import SqliteSaver\n",
    "\n",
    "memory = SqliteSaver.from_conn_string(\":memory:\")"
   ]
  },
  {
   "cell_type": "code",
   "execution_count": 20,
   "id": "e64a944e-f9ac-43cf-903c-d3d28d765377",
   "metadata": {},
   "outputs": [],
   "source": [
    "agent_executor = create_react_agent(model, tools, checkpointer=memory)\n",
    "\n",
    "config = {\"configurable\": {\"thread_id\": \"abc123\"}}"
   ]
  },
  {
   "cell_type": "code",
   "execution_count": 21,
   "id": "a13462d0-2d02-4474-921e-15a1ba1fa274",
   "metadata": {},
   "outputs": [
    {
     "name": "stdout",
     "output_type": "stream",
     "text": [
      "{'agent': {'messages': [AIMessage(content='Hi Bob! How can I assist you today?', response_metadata={'token_usage': {'completion_tokens': 11, 'prompt_tokens': 83, 'total_tokens': 94}, 'model_name': 'gpt-4o', 'system_fingerprint': 'fp_319be4768e', 'finish_reason': 'stop', 'logprobs': None}, id='run-8096f7cd-1001-4708-bb8f-f198fb8db3b7-0')]}}\n",
      "----\n"
     ]
    }
   ],
   "source": [
    "for chunk in agent_executor.stream(\n",
    "    {\"messages\": [HumanMessage(content=\"hi im bob!\")]}, config\n",
    "):\n",
    "    print(chunk)\n",
    "    print(\"----\")"
   ]
  },
  {
   "cell_type": "code",
   "execution_count": 22,
   "id": "56d8028b-5dbc-40b2-86f5-ed60631d86a3",
   "metadata": {},
   "outputs": [
    {
     "name": "stdout",
     "output_type": "stream",
     "text": [
      "{'agent': {'messages': [AIMessage(content='You mentioned that your name is Bob. How can I help you today, Bob?', response_metadata={'token_usage': {'completion_tokens': 18, 'prompt_tokens': 106, 'total_tokens': 124}, 'model_name': 'gpt-4o', 'system_fingerprint': 'fp_319be4768e', 'finish_reason': 'stop', 'logprobs': None}, id='run-86e8be1e-1bfa-4806-9ba0-b06577e70108-0')]}}\n",
      "----\n"
     ]
    }
   ],
   "source": [
    "for chunk in agent_executor.stream(\n",
    "    {\"messages\": [HumanMessage(content=\"whats my name?\")]}, config\n",
    "):\n",
    "    print(chunk)\n",
    "    print(\"----\")"
   ]
  },
  {
   "cell_type": "markdown",
   "id": "bda99754-0a11-4447-b408-e8db8f2e3517",
   "metadata": {},
   "source": [
    "Example [LangSmith trace](https://smith.langchain.com/public/fa73960b-0f7d-4910-b73d-757a12f33b2b/r)"
   ]
  },
  {
   "cell_type": "markdown",
   "id": "ae908088",
   "metadata": {},
   "source": [
    "If I want to start a new conversation, all I have to do is change the `thread_id` used"
   ]
  },
  {
   "cell_type": "code",
   "execution_count": 23,
   "id": "24460239",
   "metadata": {},
   "outputs": [
    {
     "name": "stdout",
     "output_type": "stream",
     "text": [
      "{'agent': {'messages': [AIMessage(content=\"I don't have access to your personal information, including your name. If you tell me your name, I can use it in our conversation.\", response_metadata={'token_usage': {'completion_tokens': 29, 'prompt_tokens': 84, 'total_tokens': 113}, 'model_name': 'gpt-4o', 'system_fingerprint': 'fp_319be4768e', 'finish_reason': 'stop', 'logprobs': None}, id='run-b1d9d702-24a6-4de5-b28c-a796326188bd-0')]}}\n",
      "----\n"
     ]
    }
   ],
   "source": [
    "config = {\"configurable\": {\"thread_id\": \"xyz123\"}}\n",
    "for chunk in agent_executor.stream(\n",
    "    {\"messages\": [HumanMessage(content=\"whats my name?\")]}, config\n",
    "):\n",
    "    print(chunk)\n",
    "    print(\"----\")"
   ]
  },
  {
   "cell_type": "markdown",
   "id": "c029798f",
   "metadata": {},
   "source": [
    "## 11. Conclusion\n"
   ]
  },
  {
   "cell_type": "markdown",
   "id": "f6b76a57",
   "metadata": {},
   "source": [
    "That's a wrap! In this quick start we covered how to create a simple agent. \n",
    "We've then shown how to stream back a response - not only the intermediate steps, but also tokens!\n",
    "We've also added in memory so you can have a conversation with them.\n",
    "Agents are a complex topic, and there's lot to learn! \n",
    "\n",
    "For more information on Agents, please check out the [LangGraph](/docs/concepts/#langgraph) documentation. This has it's own set of concepts, tutorials, and how-to guides."
   ]
  },
  {
   "cell_type": "code",
   "execution_count": null,
   "id": "e3ec3244",
   "metadata": {},
   "outputs": [],
   "source": []
  }
 ],
 "metadata": {
  "kernelspec": {
   "display_name": "Python 3 (ipykernel)",
   "language": "python",
   "name": "python3"
  },
  "language_info": {
   "codemirror_mode": {
    "name": "ipython",
    "version": 3
   },
   "file_extension": ".py",
   "mimetype": "text/x-python",
   "name": "python",
   "nbconvert_exporter": "python",
   "pygments_lexer": "ipython3",
   "version": "3.9.18"
  }
 },
 "nbformat": 4,
 "nbformat_minor": 5
}
