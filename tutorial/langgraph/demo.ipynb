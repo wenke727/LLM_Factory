{
 "cells": [
  {
   "cell_type": "code",
   "execution_count": 1,
   "metadata": {},
   "outputs": [],
   "source": [
    "import os\n",
    "from dotenv import load_dotenv\n",
    "load_dotenv('.env', verbose=True)\n",
    "\n",
    "from typing import Literal, TypedDict, Annotated\n",
    "from langchain_openai import ChatOpenAI\n",
    "from langchain_community.tools.tavily_search import TavilySearchResults\n",
    "from langchain_core.messages import HumanMessage, BaseMessage\n",
    "from langgraph.graph import StateGraph, END, MessageGraph"
   ]
  },
  {
   "cell_type": "code",
   "execution_count": 2,
   "metadata": {},
   "outputs": [
    {
     "data": {
      "text/plain": [
       "[HumanMessage(content='what is 123 * 456 * 798 ?', id='2c423731-25a6-4fde-806b-99551fb5ec0a'),\n",
       " AIMessage(content='', additional_kwargs={'tool_calls': [{'id': 'call_mCOW4yUYXgt96vYYAqMMJzBa', 'function': {'arguments': '{\"num1\": 123, \"num2\": 456}', 'name': 'multiply'}, 'type': 'function'}, {'id': 'call_MtS9p07CzqvWCpgr7l60Qdxr', 'function': {'arguments': '{\"num1\": 56088, \"num2\": 798}', 'name': 'multiply'}, 'type': 'function'}]}, response_metadata={'token_usage': {'completion_tokens': 54, 'prompt_tokens': 62, 'total_tokens': 116}, 'model_name': 'gpt-3.5-turbo', 'system_fingerprint': None, 'finish_reason': 'tool_calls', 'logprobs': None}, id='run-159fe921-1888-4357-b3ea-f48d16cae9b3-0', tool_calls=[{'name': 'multiply', 'args': {'num1': 123, 'num2': 456}, 'id': 'call_mCOW4yUYXgt96vYYAqMMJzBa'}, {'name': 'multiply', 'args': {'num1': 56088, 'num2': 798}, 'id': 'call_MtS9p07CzqvWCpgr7l60Qdxr'}], usage_metadata={'input_tokens': 62, 'output_tokens': 54, 'total_tokens': 116}),\n",
       " ToolMessage(content='56088', name='multiply', id='e0997e4e-6912-4e78-8a75-711254e3389e', tool_call_id='call_mCOW4yUYXgt96vYYAqMMJzBa'),\n",
       " ToolMessage(content='44758224', name='multiply', id='5754b132-a726-4877-800f-b958c830d36c', tool_call_id='call_MtS9p07CzqvWCpgr7l60Qdxr')]"
      ]
     },
     "execution_count": 2,
     "metadata": {},
     "output_type": "execute_result"
    }
   ],
   "source": [
    "from langchain_core.tools import tool\n",
    "from langgraph.prebuilt import ToolNode\n",
    "from typing import Literal, List\n",
    "\n",
    "@tool\n",
    "def multiply(num1, num2):\n",
    "    \"\"\" miltiplies two numbers together \"\"\"\n",
    "\n",
    "    return num1 * num2\n",
    "\n",
    "def router(state: List[BaseMessage]) -> Literal[\"multiply\", \"__end__\"]:\n",
    "    tool_calls = state[-1].additional_kwargs.get(\"tool_calls\", [])\n",
    "    if len(tool_calls):\n",
    "        return \"multiply\"\n",
    "    else:\n",
    "        return \"__end__\"\n",
    "\n",
    "model = ChatOpenAI(name='gpt-3.5-turbo')\n",
    "model_with_tools = model.bind_tools([multiply])\n",
    "tool_node = ToolNode([multiply])\n",
    "\n",
    "builder = MessageGraph()\n",
    "builder.add_node(\"llm\", model_with_tools)\n",
    "builder.add_node(\"multiply\", tool_node)\n",
    "\n",
    "builder.set_entry_point('llm')\n",
    "builder.add_edge(\"llm\", \"multiply\")\n",
    "builder.add_conditional_edges(\"llm\", router)\n",
    "builder.add_edge(\"multiply\", END)\n",
    "\n",
    "runnable = builder.compile()\n",
    "runnable.invoke(HumanMessage(\"what is 123 * 456 * 798 ?\"))"
   ]
  },
  {
   "cell_type": "code",
   "execution_count": 3,
   "metadata": {},
   "outputs": [
    {
     "ename": "AttributeError",
     "evalue": "'MessageGraph' object has no attribute 'get_graph'",
     "output_type": "error",
     "traceback": [
      "\u001b[0;31m---------------------------------------------------------------------------\u001b[0m",
      "\u001b[0;31mAttributeError\u001b[0m                            Traceback (most recent call last)",
      "Cell \u001b[0;32mIn[3], line 3\u001b[0m\n\u001b[1;32m      1\u001b[0m \u001b[38;5;28;01mfrom\u001b[39;00m \u001b[38;5;21;01mIPython\u001b[39;00m\u001b[38;5;21;01m.\u001b[39;00m\u001b[38;5;21;01mdisplay\u001b[39;00m \u001b[38;5;28;01mimport\u001b[39;00m Image, display\n\u001b[0;32m----> 3\u001b[0m display(Image(\u001b[43mbuilder\u001b[49m\u001b[38;5;241;43m.\u001b[39;49m\u001b[43mget_graph\u001b[49m()\u001b[38;5;241m.\u001b[39mdraw_mermaid_png()))\n",
      "\u001b[0;31mAttributeError\u001b[0m: 'MessageGraph' object has no attribute 'get_graph'"
     ]
    }
   ],
   "source": [
    "from IPython.display import Image, display\n",
    "\n",
    "display(Image(builder.get_graph().draw_mermaid_png()))\n"
   ]
  },
  {
   "cell_type": "code",
   "execution_count": null,
   "metadata": {},
   "outputs": [],
   "source": []
  }
 ],
 "metadata": {
  "kernelspec": {
   "display_name": "dl",
   "language": "python",
   "name": "python3"
  },
  "language_info": {
   "codemirror_mode": {
    "name": "ipython",
    "version": 3
   },
   "file_extension": ".py",
   "mimetype": "text/x-python",
   "name": "python",
   "nbconvert_exporter": "python",
   "pygments_lexer": "ipython3",
   "version": "3.9.18"
  }
 },
 "nbformat": 4,
 "nbformat_minor": 2
}
