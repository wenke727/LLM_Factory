{
 "cells": [
  {
   "cell_type": "code",
   "execution_count": null,
   "id": "880841df-7501-47a9-9770-48ce2ccfc59e",
   "metadata": {},
   "outputs": [],
   "source": [
    "#%%\n",
    "\n",
    "from dotenv import load_dotenv\n",
    "load_dotenv(\"../.env\")\n",
    "\n",
    "from langchain.prompts import PromptTemplate\n",
    "from langchain_openai import ChatOpenAI\n",
    "from langchain.agents import load_tools\n",
    "from langchain.agents import AgentExecutor\n",
    "from langchain.agents import create_react_agent"
   ]
  },
  {
   "cell_type": "code",
   "execution_count": null,
   "id": "947b2eee-da08-4542-9d9d-49fc02098645",
   "metadata": {},
   "outputs": [],
   "source": [
    "#%%\n",
    "\n",
    "# 初始化大模型\n",
    "llm = ChatOpenAI(model='gpt-4o', temperature=0.5)"
   ]
  },
  {
   "cell_type": "code",
   "execution_count": null,
   "id": "7c67e0c8-6ebd-461e-8529-8ac74c9fb95e",
   "metadata": {},
   "outputs": [
    {
     "data": {
      "text/plain": [
       "[Tool(name='Search', description='A search engine. Useful for when you need to answer questions about current events. Input should be a search query.', func=<bound method SerpAPIWrapper.run of SerpAPIWrapper(search_engine=<class 'serpapi.google_search.GoogleSearch'>, params={'engine': 'google', 'google_domain': 'google.com', 'gl': 'us', 'hl': 'en'}, serpapi_api_key='9a385efcc26ec0f5eb7a576dedd111bb8d8a3e2b616eb78a302db84f1a435d75', aiosession=None)>, coroutine=<bound method SerpAPIWrapper.arun of SerpAPIWrapper(search_engine=<class 'serpapi.google_search.GoogleSearch'>, params={'engine': 'google', 'google_domain': 'google.com', 'gl': 'us', 'hl': 'en'}, serpapi_api_key='9a385efcc26ec0f5eb7a576dedd111bb8d8a3e2b616eb78a302db84f1a435d75', aiosession=None)>),\n",
       " Tool(name='Calculator', description='Useful for when you need to answer questions about math.', func=<bound method Chain.run of LLMMathChain(llm_chain=LLMChain(prompt=PromptTemplate(input_variables=['question'], template='Translate a math problem into a expression that can be executed using Python\\'s numexpr library. Use the output of running this code to answer the question.\\n\\nQuestion: ${{Question with math problem.}}\\n```text\\n${{single line mathematical expression that solves the problem}}\\n```\\n...numexpr.evaluate(text)...\\n```output\\n${{Output of running the code}}\\n```\\nAnswer: ${{Answer}}\\n\\nBegin.\\n\\nQuestion: What is 37593 * 67?\\n```text\\n37593 * 67\\n```\\n...numexpr.evaluate(\"37593 * 67\")...\\n```output\\n2518731\\n```\\nAnswer: 2518731\\n\\nQuestion: 37593^(1/5)\\n```text\\n37593**(1/5)\\n```\\n...numexpr.evaluate(\"37593**(1/5)\")...\\n```output\\n8.222831614237718\\n```\\nAnswer: 8.222831614237718\\n\\nQuestion: {question}\\n'), llm=ChatOpenAI(client=<openai.resources.chat.completions.Completions object at 0x7fd8ea3f0820>, async_client=<openai.resources.chat.completions.AsyncCompletions object at 0x7fd8ea41fe50>, model_name='gpt-4o', temperature=0.5, openai_api_key=SecretStr('**********'), openai_proxy='')))>, coroutine=<bound method Chain.arun of LLMMathChain(llm_chain=LLMChain(prompt=PromptTemplate(input_variables=['question'], template='Translate a math problem into a expression that can be executed using Python\\'s numexpr library. Use the output of running this code to answer the question.\\n\\nQuestion: ${{Question with math problem.}}\\n```text\\n${{single line mathematical expression that solves the problem}}\\n```\\n...numexpr.evaluate(text)...\\n```output\\n${{Output of running the code}}\\n```\\nAnswer: ${{Answer}}\\n\\nBegin.\\n\\nQuestion: What is 37593 * 67?\\n```text\\n37593 * 67\\n```\\n...numexpr.evaluate(\"37593 * 67\")...\\n```output\\n2518731\\n```\\nAnswer: 2518731\\n\\nQuestion: 37593^(1/5)\\n```text\\n37593**(1/5)\\n```\\n...numexpr.evaluate(\"37593**(1/5)\")...\\n```output\\n8.222831614237718\\n```\\nAnswer: 8.222831614237718\\n\\nQuestion: {question}\\n'), llm=ChatOpenAI(client=<openai.resources.chat.completions.Completions object at 0x7fd8ea3f0820>, async_client=<openai.resources.chat.completions.AsyncCompletions object at 0x7fd8ea41fe50>, model_name='gpt-4o', temperature=0.5, openai_api_key=SecretStr('**********'), openai_proxy='')))>)]"
      ]
     },
     "execution_count": 3,
     "metadata": {},
     "output_type": "execute_result"
    }
   ],
   "source": [
    "#%%\n",
    "\n",
    "# 设置工具\n",
    "tools = load_tools([\"serpapi\", \"llm-math\"], llm=llm)\n",
    "tools"
   ]
  },
  {
   "cell_type": "code",
   "execution_count": null,
   "id": "3d6a2e49-7aa0-4eb7-b90a-c3b29104e44c",
   "metadata": {},
   "outputs": [],
   "source": [
    "#%%\n",
    "\n",
    "# 设置提示模板\n",
    "template = ('''\n",
    "    '尽你所能用中文回答以下问题。如果能力不够你可以使用以下工具:\\n\\n'\n",
    "    '{tools}\\n\\n\n",
    "    Use the following format:\\n\\n'\n",
    "    'Question: the input question you must answer\\n'\n",
    "    'Thought: you should always think about what to do\\n'\n",
    "    'Action: the action to take, should be one of [{tool_names}]\\n'\n",
    "    'Action Input: the input to the action\\n'\n",
    "    'Observation: the result of the action\\n'\n",
    "    '... (this Thought/Action/Action Input/Observation can repeat N times)\\n'\n",
    "    'Thought: I now know the final answer\\n'\n",
    "    'Final Answer: the final answer to the original input question\\n\\n'\n",
    "    'Begin!\\n\\n'\n",
    "    'Question: {input}\\n'\n",
    "    'Thought:{agent_scratchpad}'\n",
    "    '''\n",
    ")\n",
    "\n",
    "prompt = PromptTemplate.from_template(template)"
   ]
  },
  {
   "cell_type": "code",
   "execution_count": null,
   "id": "438d9b81-8853-4641-8c89-fe80947ec027",
   "metadata": {},
   "outputs": [
    {
     "name": "stdout",
     "output_type": "stream",
     "text": [
      "\n",
      "    '尽你所能用中文回答以下问题。如果能力不够你可以使用以下工具:\n",
      "\n",
      "'\n",
      "    '\u001b[33;1m\u001b[1;3m{tools}\u001b[0m\n",
      "\n",
      "\n",
      "    Use the following format:\n",
      "\n",
      "'\n",
      "    'Question: the input question you must answer\n",
      "'\n",
      "    'Thought: you should always think about what to do\n",
      "'\n",
      "    'Action: the action to take, should be one of [\u001b[33;1m\u001b[1;3m{tool_names}\u001b[0m]\n",
      "'\n",
      "    'Action Input: the input to the action\n",
      "'\n",
      "    'Observation: the result of the action\n",
      "'\n",
      "    '... (this Thought/Action/Action Input/Observation can repeat N times)\n",
      "'\n",
      "    'Thought: I now know the final answer\n",
      "'\n",
      "    'Final Answer: the final answer to the original input question\n",
      "\n",
      "'\n",
      "    'Begin!\n",
      "\n",
      "'\n",
      "    'Question: \u001b[33;1m\u001b[1;3m{input}\u001b[0m\n",
      "'\n",
      "    'Thought:\u001b[33;1m\u001b[1;3m{agent_scratchpad}\u001b[0m'\n",
      "    \n"
     ]
    }
   ],
   "source": [
    "#%%\n",
    "\n",
    "prompt.pretty_print()"
   ]
  },
  {
   "cell_type": "code",
   "execution_count": null,
   "id": "9b6cb6b7-b9a4-42cc-aa90-7a6cc296aa2d",
   "metadata": {},
   "outputs": [
    {
     "data": {
      "text/plain": [
       "RunnableAssign(mapper={\n",
       "  agent_scratchpad: RunnableLambda(lambda x: format_log_to_str(x['intermediate_steps']))\n",
       "})\n",
       "| PromptTemplate(input_variables=['agent_scratchpad', 'input'], partial_variables={'tools': 'Search(query: str, **kwargs: Any) -> str - A search engine. Useful for when you need to answer questions about current events. Input should be a search query.\\nCalculator(*args: Any, callbacks: Union[List[langchain_core.callbacks.base.BaseCallbackHandler], langchain_core.callbacks.base.BaseCallbackManager, NoneType] = None, tags: Optional[List[str]] = None, metadata: Optional[Dict[str, Any]] = None, **kwargs: Any) -> Any - Useful for when you need to answer questions about math.', 'tool_names': 'Search, Calculator'}, template=\"\\n    '尽你所能用中文回答以下问题。如果能力不够你可以使用以下工具:\\n\\n'\\n    '{tools}\\n\\n\\n    Use the following format:\\n\\n'\\n    'Question: the input question you must answer\\n'\\n    'Thought: you should always think about what to do\\n'\\n    'Action: the action to take, should be one of [{tool_names}]\\n'\\n    'Action Input: the input to the action\\n'\\n    'Observation: the result of the action\\n'\\n    '... (this Thought/Action/Action Input/Observation can repeat N times)\\n'\\n    'Thought: I now know the final answer\\n'\\n    'Final Answer: the final answer to the original input question\\n\\n'\\n    'Begin!\\n\\n'\\n    'Question: {input}\\n'\\n    'Thought:{agent_scratchpad}'\\n    \")\n",
       "| RunnableBinding(bound=ChatOpenAI(client=<openai.resources.chat.completions.Completions object at 0x7fd8ea3f0820>, async_client=<openai.resources.chat.completions.AsyncCompletions object at 0x7fd8ea41fe50>, model_name='gpt-4o', temperature=0.5, openai_api_key=SecretStr('**********'), openai_proxy=''), kwargs={'stop': ['\\nObservation']})\n",
       "| ReActSingleInputOutputParser()"
      ]
     },
     "execution_count": 6,
     "metadata": {},
     "output_type": "execute_result"
    }
   ],
   "source": [
    "#%%\n",
    "\n",
    "# 初始化Agent\n",
    "agent = create_react_agent(llm, tools, prompt)\n",
    "agent"
   ]
  },
  {
   "cell_type": "code",
   "execution_count": null,
   "id": "3053eab6-1019-4e3c-993c-0bdfd7a8e141",
   "metadata": {},
   "outputs": [
    {
     "data": {
      "text/plain": [
       "AgentExecutor(verbose=True, agent=RunnableAgent(runnable=RunnableAssign(mapper={\n",
       "  agent_scratchpad: RunnableLambda(lambda x: format_log_to_str(x['intermediate_steps']))\n",
       "})\n",
       "| PromptTemplate(input_variables=['agent_scratchpad', 'input'], partial_variables={'tools': 'Search(query: str, **kwargs: Any) -> str - A search engine. Useful for when you need to answer questions about current events. Input should be a search query.\\nCalculator(*args: Any, callbacks: Union[List[langchain_core.callbacks.base.BaseCallbackHandler], langchain_core.callbacks.base.BaseCallbackManager, NoneType] = None, tags: Optional[List[str]] = None, metadata: Optional[Dict[str, Any]] = None, **kwargs: Any) -> Any - Useful for when you need to answer questions about math.', 'tool_names': 'Search, Calculator'}, template=\"\\n    '尽你所能用中文回答以下问题。如果能力不够你可以使用以下工具:\\n\\n'\\n    '{tools}\\n\\n\\n    Use the following format:\\n\\n'\\n    'Question: the input question you must answer\\n'\\n    'Thought: you should always think about what to do\\n'\\n    'Action: the action to take, should be one of [{tool_names}]\\n'\\n    'Action Input: the input to the action\\n'\\n    'Observation: the result of the action\\n'\\n    '... (this Thought/Action/Action Input/Observation can repeat N times)\\n'\\n    'Thought: I now know the final answer\\n'\\n    'Final Answer: the final answer to the original input question\\n\\n'\\n    'Begin!\\n\\n'\\n    'Question: {input}\\n'\\n    'Thought:{agent_scratchpad}'\\n    \")\n",
       "| RunnableBinding(bound=ChatOpenAI(client=<openai.resources.chat.completions.Completions object at 0x7fd8ea3f0820>, async_client=<openai.resources.chat.completions.AsyncCompletions object at 0x7fd8ea41fe50>, model_name='gpt-4o', temperature=0.5, openai_api_key=SecretStr('**********'), openai_proxy=''), kwargs={'stop': ['\\nObservation']})\n",
       "| ReActSingleInputOutputParser(), input_keys_arg=[], return_keys_arg=[], stream_runnable=True), tools=[Tool(name='Search', description='A search engine. Useful for when you need to answer questions about current events. Input should be a search query.', func=<bound method SerpAPIWrapper.run of SerpAPIWrapper(search_engine=<class 'serpapi.google_search.GoogleSearch'>, params={'engine': 'google', 'google_domain': 'google.com', 'gl': 'us', 'hl': 'en'}, serpapi_api_key='9a385efcc26ec0f5eb7a576dedd111bb8d8a3e2b616eb78a302db84f1a435d75', aiosession=None)>, coroutine=<bound method SerpAPIWrapper.arun of SerpAPIWrapper(search_engine=<class 'serpapi.google_search.GoogleSearch'>, params={'engine': 'google', 'google_domain': 'google.com', 'gl': 'us', 'hl': 'en'}, serpapi_api_key='9a385efcc26ec0f5eb7a576dedd111bb8d8a3e2b616eb78a302db84f1a435d75', aiosession=None)>), Tool(name='Calculator', description='Useful for when you need to answer questions about math.', func=<bound method Chain.run of LLMMathChain(llm_chain=LLMChain(prompt=PromptTemplate(input_variables=['question'], template='Translate a math problem into a expression that can be executed using Python\\'s numexpr library. Use the output of running this code to answer the question.\\n\\nQuestion: ${{Question with math problem.}}\\n```text\\n${{single line mathematical expression that solves the problem}}\\n```\\n...numexpr.evaluate(text)...\\n```output\\n${{Output of running the code}}\\n```\\nAnswer: ${{Answer}}\\n\\nBegin.\\n\\nQuestion: What is 37593 * 67?\\n```text\\n37593 * 67\\n```\\n...numexpr.evaluate(\"37593 * 67\")...\\n```output\\n2518731\\n```\\nAnswer: 2518731\\n\\nQuestion: 37593^(1/5)\\n```text\\n37593**(1/5)\\n```\\n...numexpr.evaluate(\"37593**(1/5)\")...\\n```output\\n8.222831614237718\\n```\\nAnswer: 8.222831614237718\\n\\nQuestion: {question}\\n'), llm=ChatOpenAI(client=<openai.resources.chat.completions.Completions object at 0x7fd8ea3f0820>, async_client=<openai.resources.chat.completions.AsyncCompletions object at 0x7fd8ea41fe50>, model_name='gpt-4o', temperature=0.5, openai_api_key=SecretStr('**********'), openai_proxy='')))>, coroutine=<bound method Chain.arun of LLMMathChain(llm_chain=LLMChain(prompt=PromptTemplate(input_variables=['question'], template='Translate a math problem into a expression that can be executed using Python\\'s numexpr library. Use the output of running this code to answer the question.\\n\\nQuestion: ${{Question with math problem.}}\\n```text\\n${{single line mathematical expression that solves the problem}}\\n```\\n...numexpr.evaluate(text)...\\n```output\\n${{Output of running the code}}\\n```\\nAnswer: ${{Answer}}\\n\\nBegin.\\n\\nQuestion: What is 37593 * 67?\\n```text\\n37593 * 67\\n```\\n...numexpr.evaluate(\"37593 * 67\")...\\n```output\\n2518731\\n```\\nAnswer: 2518731\\n\\nQuestion: 37593^(1/5)\\n```text\\n37593**(1/5)\\n```\\n...numexpr.evaluate(\"37593**(1/5)\")...\\n```output\\n8.222831614237718\\n```\\nAnswer: 8.222831614237718\\n\\nQuestion: {question}\\n'), llm=ChatOpenAI(client=<openai.resources.chat.completions.Completions object at 0x7fd8ea3f0820>, async_client=<openai.resources.chat.completions.AsyncCompletions object at 0x7fd8ea41fe50>, model_name='gpt-4o', temperature=0.5, openai_api_key=SecretStr('**********'), openai_proxy='')))>)], handle_parsing_errors=True)"
      ]
     },
     "execution_count": 7,
     "metadata": {},
     "output_type": "execute_result"
    }
   ],
   "source": [
    "#%%\n",
    "\n",
    "# 构建AgentExecutor\n",
    "agent_executor = AgentExecutor(agent=agent,\n",
    "                               tools=tools,\n",
    "                               handle_parsing_errors=True,\n",
    "                               verbose=True)\n",
    "agent_executor"
   ]
  },
  {
   "cell_type": "code",
   "execution_count": null,
   "id": "399af31e-091c-4927-97f8-19786612cb6c",
   "metadata": {},
   "outputs": [
    {
     "name": "stdout",
     "output_type": "stream",
     "text": [
      "\n",
      "\n",
      "\u001b[1m> Entering new AgentExecutor chain...\u001b[0m\n",
      "\u001b[32;1m\u001b[1;3m'Question: 目前市场上玫瑰花的一般进货价格是多少？如果我在此基础上加价5%，应该如何定价？\n",
      "\n",
      "Thought: 我需要先找到目前市场上玫瑰花的一般进货价格，然后计算加价5%后的定价。\n",
      "\n",
      "Action: Search\n",
      "Action Input: 目前市场上玫瑰花的一般进货价格\n",
      "\u001b[0m\u001b[36;1m\u001b[1;3m['一朵普通红玫瑰的价格大约在2-5元之间。 2、一般鲜花店标准售价一般而言，在城市中心或者商业区内的鲜花店出售的玫瑰花价格相对较高，可能会在3-40元/支 ...', '元旦来临，云南鲜切花市场迎来销售高峰期，价格飙升，卡罗拉红玫瑰平时10-20元一把，现在能卖到40-50元。涨价潮可能持续到春节。 “昨天拍一支花可能 ...', '以玫瑰为例，一扎（20枝）产自云南的普通C级玫瑰花往年价格为20至30元，今年最高价已涨至200至300元不等，价格翻了10倍。寓意长长久久的999朵玫瑰花束售价 ...', '今年由于气温回升较快，玫瑰花已经开始采摘。平阴县玫瑰鲜花蕾开秤价格从2.8元/斤，迅速攀升至4月27日的3.5元/斤，开秤价格平均每斤比去年同期上涨1 ...', \"在记者走访了解中，不少商户直呼“今年七夕节玫瑰花价格是近几年来最低的一次”。“红玫瑰一捆20支的价格一般在25-40元，像'弗洛伊德'这类特定花色的精品玫瑰 ...\", '我公司每天会按照我们网站上公布的鲜花报价发货,如有我们网站上公布的价格与实际的发货价格不符，请与我们网站上的客服联系或者直接致电给我们询问. 鲜花等级说明：. A级 ...', '“今年的玫瑰进价尤其贵，相较去年基本上翻了3倍。”有批发市场店主说。记者走访上海的灵石路批发市场及嘉艺花卉市场发现，鲜花大多从云南昆明批发过来，“ ...', '周先生说，由于临近情人节，玫瑰花的销量在逐天上涨，价格也比平时翻了好几倍。“拿红玫瑰举例，平时这个品种一把进价在30元左右，一把20支，现在已经涨到 ...', '店家告诉记者，这是专门为今年兔年打造的情人节花束，共有11支玫瑰，此类包装精致的玫瑰花花束价格都在200元左右，包装费在50-60元左右。常见的用包装纸 ...', '除实体店，玫瑰花在昆明斗南鲜花批发市场线上交易也不便宜。 3月6日，“斗南花城”平台单头玫瑰“蜜桃雪山”价格38.85元/扎（20枝）至135.45元/扎，“桃红雪山 ...']\u001b[0m"
     ]
    },
    {
     "name": "stderr",
     "output_type": "stream",
     "text": [
      "Failed to get info from https://api.smith.langchain.com: LangSmithConnectionError('Connection error caused failure to GET /info  in LangSmith API. Please confirm your internet connection.. ProxyError(MaxRetryError(\"HTTPSConnectionPool(host=\\'api.smith.langchain.com\\', port=443): Max retries exceeded with url: /info (Caused by ProxyError(\\'Cannot connect to proxy.\\', RemoteDisconnected(\\'Remote end closed connection without response\\')))\"))')\n"
     ]
    },
    {
     "name": "stdout",
     "output_type": "stream",
     "text": [
      "\u001b[32;1m\u001b[1;3m目前市场上玫瑰花的进货价格因品种和质量不同而有所差异。根据搜索结果，普通红玫瑰的价格大约在2-5元/支，而一些特定品种的价格可能会更高。例如：\n",
      "\n",
      "- 普通红玫瑰：2-5元/支\n",
      "- 一扎（20枝）普通C级玫瑰：25-40元/扎\n",
      "\n",
      "假设我们以普通红玫瑰的平均进货价格3.5元/支来计算，如果在此基础上加价5%，该如何定价？\n",
      "\n",
      "Action: Calculator\n",
      "Action Input: 3.5 * 1.05\n",
      "\u001b[0m\u001b[33;1m\u001b[1;3mAnswer: 3.6750000000000003\u001b[0m\u001b[32;1m\u001b[1;3m'Question: 目前市场上玫瑰花的一般进货价格是多少？如果我在此基础上加价5%，应该如何定价？\n",
      "\n",
      "Thought: 我需要先找到目前市场上玫瑰花的一般进货价格，然后计算加价5%后的定价。\n",
      "\n",
      "Action: Search\n",
      "Action Input: 目前市场上玫瑰花的一般进货价格\n",
      "\u001b[0m\u001b[36;1m\u001b[1;3m['一朵普通红玫瑰的价格大约在2-5元之间。 2、一般鲜花店标准售价一般而言，在城市中心或者商业区内的鲜花店出售的玫瑰花价格相对较高，可能会在3-40元/支 ...', '元旦来临，云南鲜切花市场迎来销售高峰期，价格飙升，卡罗拉红玫瑰平时10-20元一把，现在能卖到40-50元。涨价潮可能持续到春节。 “昨天拍一支花可能 ...', '以玫瑰为例，一扎（20枝）产自云南的普通C级玫瑰花往年价格为20至30元，今年最高价已涨至200至300元不等，价格翻了10倍。寓意长长久久的999朵玫瑰花束售价 ...', '今年由于气温回升较快，玫瑰花已经开始采摘。平阴县玫瑰鲜花蕾开秤价格从2.8元/斤，迅速攀升至4月27日的3.5元/斤，开秤价格平均每斤比去年同期上涨1 ...', \"在记者走访了解中，不少商户直呼“今年七夕节玫瑰花价格是近几年来最低的一次”。“红玫瑰一捆20支的价格一般在25-40元，像'弗洛伊德'这类特定花色的精品玫瑰 ...\", '我公司每天会按照我们网站上公布的鲜花报价发货,如有我们网站上公布的价格与实际的发货价格不符，请与我们网站上的客服联系或者直接致电给我们询问. 鲜花等级说明：. A级 ...', '“今年的玫瑰进价尤其贵，相较去年基本上翻了3倍。”有批发市场店主说。记者走访上海的灵石路批发市场及嘉艺花卉市场发现，鲜花大多从云南昆明批发过来，“ ...', '周先生说，由于临近情人节，玫瑰花的销量在逐天上涨，价格也比平时翻了好几倍。“拿红玫瑰举例，平时这个品种一把进价在30元左右，一把20支，现在已经涨到 ...', '店家告诉记者，这是专门为今年兔年打造的情人节花束，共有11支玫瑰，此类包装精致的玫瑰花花束价格都在200元左右，包装费在50-60元左右。常见的用包装纸 ...', '除实体店，玫瑰花在昆明斗南鲜花批发市场线上交易也不便宜。 3月6日，“斗南花城”平台单头玫瑰“蜜桃雪山”价格38.85元/扎（20枝）至135.45元/扎，“桃红雪山 ...']\u001b[0m\u001b[32;1m\u001b[1;3m目前市场上玫瑰花的进货价格因品种和质量不同而有所差异。根据搜索结果，普通红玫瑰的价格大约在2-5元/支，而一些特定品种的价格可能会更高。例如：\n",
      "\n",
      "- 普通红玫瑰：2-5元/支\n",
      "- 一扎（20枝）普通C级玫瑰：25-40元/扎\n",
      "\n",
      "假设我们以普通红玫瑰的平均进货价格3.5元/支来计算，如果在此基础上加价5%，该如何定价？\n",
      "\n",
      "Action: Calculator\n",
      "Action Input: 3.5 * 1.05\n",
      "\u001b[0m\u001b[33;1m\u001b[1;3mAnswer: 3.6750000000000003\u001b[0m\u001b[32;1m\u001b[1;3mThought: 现在我知道了普通红玫瑰的平均进货价格为3.5元/支，在此基础上加价5%后的定价为3.675元/支。\n",
      "\n",
      "Final Answer: 目前市场上普通红玫瑰的平均进货价格大约为3.5元/支，如果在此基础上加价5%，定价应为3.675元/支。\u001b[0m\n",
      "\n",
      "\u001b[1m> Finished chain.\u001b[0m\n"
     ]
    },
    {
     "data": {
      "text/plain": [
       "{'input': '目前市场上玫瑰花的一般进货价格是多少？\\n\\n                       如果我在此基础上加价5%，应该如何定价？',\n",
       " 'output': '目前市场上普通红玫瑰的平均进货价格大约为3.5元/支，如果在此基础上加价5%，定价应为3.675元/支。'}"
      ]
     },
     "execution_count": 8,
     "metadata": {},
     "output_type": "execute_result"
    }
   ],
   "source": [
    "#%%\n",
    "\n",
    "# 执行AgentExecutor\n",
    "agent_executor.invoke({\"input\":\n",
    "                       \"\"\"目前市场上玫瑰花的一般进货价格是多少？\\n\n",
    "                       如果我在此基础上加价5%，应该如何定价？\"\"\"})"
   ]
  }
 ],
 "metadata": {
  "language_info": {
   "codemirror_mode": {
    "name": "ipython",
    "version": 3
   },
   "file_extension": ".py",
   "mimetype": "text/x-python",
   "name": "python",
   "nbconvert_exporter": "python",
   "pygments_lexer": "ipython3",
   "version": 3
  }
 },
 "nbformat": 4,
 "nbformat_minor": 2
}
