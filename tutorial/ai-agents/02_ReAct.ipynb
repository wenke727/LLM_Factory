{
 "cells": [
  {
   "cell_type": "code",
   "execution_count": 1,
   "id": "e443bc73-2ce5-4cbc-a84f-45e54d8fddc9",
   "metadata": {},
   "outputs": [
    {
     "data": {
      "text/plain": [
       "True"
      ]
     },
     "execution_count": 1,
     "metadata": {},
     "output_type": "execute_result"
    }
   ],
   "source": [
    "from dotenv import load_dotenv\n",
    "\n",
    "from langchain import hub\n",
    "# from langchain_community.llms import OpenAI\n",
    "from langchain_openai import ChatOpenAI\n",
    "from langchain.agents.tools import Tool\n",
    "from langchain.agents import AgentExecutor\n",
    "from langchain.agents import create_react_agent\n",
    "\n",
    "from langchain_community.utilities import SerpAPIWrapper\n",
    "\n",
    "load_dotenv(\"../.env\")"
   ]
  },
  {
   "cell_type": "code",
   "execution_count": 2,
   "id": "5edfba41-8e0b-4e1b-bdf6-1804a7cd5cb4",
   "metadata": {},
   "outputs": [
    {
     "name": "stdout",
     "output_type": "stream",
     "text": [
      "Answer the following questions as best you can. You have access to the following tools:\n",
      "\n",
      "\u001b[33;1m\u001b[1;3m{tools}\u001b[0m\n",
      "\n",
      "Use the following format:\n",
      "\n",
      "Question: the input question you must answer\n",
      "Thought: you should always think about what to do\n",
      "Action: the action to take, should be one of [\u001b[33;1m\u001b[1;3m{tool_names}\u001b[0m]\n",
      "Action Input: the input to the action\n",
      "Observation: the result of the action\n",
      "... (this Thought/Action/Action Input/Observation can repeat N times)\n",
      "Thought: I now know the final answer\n",
      "Final Answer: the final answer to the original input question\n",
      "\n",
      "Begin!\n",
      "\n",
      "Question: \u001b[33;1m\u001b[1;3m{input}\u001b[0m\n",
      "Thought:\u001b[33;1m\u001b[1;3m{agent_scratchpad}\u001b[0m\n"
     ]
    }
   ],
   "source": [
    "# 从hub中获取React的Prompt\n",
    "prompt = hub.pull(\"hwchase17/react\")\n",
    "prompt.pretty_print()"
   ]
  },
  {
   "cell_type": "code",
   "execution_count": 3,
   "id": "5798370d-da45-427a-9cd0-43f48395007d",
   "metadata": {},
   "outputs": [
    {
     "data": {
      "text/plain": [
       "ChatOpenAI(client=<openai.resources.chat.completions.Completions object at 0x7fe2211738b0>, async_client=<openai.resources.chat.completions.AsyncCompletions object at 0x7fe221170100>, model_name='gpt-4o', openai_api_key=SecretStr('**********'), openai_proxy='')"
      ]
     },
     "execution_count": 3,
     "metadata": {},
     "output_type": "execute_result"
    }
   ],
   "source": [
    "# 选择要使用的LLM\n",
    "llm = ChatOpenAI(model='gpt-4o')\n",
    "llm"
   ]
  },
  {
   "cell_type": "code",
   "execution_count": 4,
   "id": "aa4fd18a-baf8-4730-9df5-052bda9c7f20",
   "metadata": {},
   "outputs": [
    {
     "data": {
      "text/plain": [
       "[Tool(name='Search', description='当大模型没有相关知识时，用于搜索知识', func=<bound method SerpAPIWrapper.run of SerpAPIWrapper(search_engine=<class 'serpapi.google_search.GoogleSearch'>, params={'engine': 'google', 'google_domain': 'google.com', 'gl': 'us', 'hl': 'en'}, serpapi_api_key='9a385efcc26ec0f5eb7a576dedd111bb8d8a3e2b616eb78a302db84f1a435d75', aiosession=None)>)]"
      ]
     },
     "execution_count": 4,
     "metadata": {},
     "output_type": "execute_result"
    }
   ],
   "source": [
    "# 实例化SerpAPIWrapper\n",
    "search = SerpAPIWrapper()\n",
    "\n",
    "# 准备工具列表\n",
    "tools = [\n",
    "    Tool(\n",
    "        name=\"Search\",\n",
    "        func=search.run,\n",
    "        description=\"当大模型没有相关知识时，用于搜索知识\",\n",
    "    ),\n",
    "]\n",
    "tools"
   ]
  },
  {
   "cell_type": "code",
   "execution_count": 5,
   "id": "f3a7d339-7954-4c67-b5db-dfe73be1a231",
   "metadata": {},
   "outputs": [
    {
     "data": {
      "text/plain": [
       "RunnableAssign(mapper={\n",
       "  agent_scratchpad: RunnableLambda(lambda x: format_log_to_str(x['intermediate_steps']))\n",
       "})\n",
       "| PromptTemplate(input_variables=['agent_scratchpad', 'input'], partial_variables={'tools': 'Search: 当大模型没有相关知识时，用于搜索知识', 'tool_names': 'Search'}, template='Answer the following questions as best you can. You have access to the following tools:\\n\\n{tools}\\n\\nUse the following format:\\n\\nQuestion: the input question you must answer\\nThought: you should always think about what to do\\nAction: the action to take, should be one of [{tool_names}]\\nAction Input: the input to the action\\nObservation: the result of the action\\n... (this Thought/Action/Action Input/Observation can repeat N times)\\nThought: I now know the final answer\\nFinal Answer: the final answer to the original input question\\n\\nBegin!\\n\\nQuestion: {input}\\nThought:{agent_scratchpad}')\n",
       "| RunnableBinding(bound=ChatOpenAI(client=<openai.resources.chat.completions.Completions object at 0x7fe2211738b0>, async_client=<openai.resources.chat.completions.AsyncCompletions object at 0x7fe221170100>, model_name='gpt-4o', openai_api_key=SecretStr('**********'), openai_proxy=''), kwargs={'stop': ['\\nObservation']})\n",
       "| ReActSingleInputOutputParser()"
      ]
     },
     "execution_count": 5,
     "metadata": {},
     "output_type": "execute_result"
    }
   ],
   "source": [
    "# 构建ReAct代理\n",
    "agent = create_react_agent(llm, tools, prompt)\n",
    "agent"
   ]
  },
  {
   "cell_type": "code",
   "execution_count": 6,
   "id": "bf143bab-cbec-4b95-b977-2070c5fba637",
   "metadata": {},
   "outputs": [
    {
     "data": {
      "text/plain": [
       "AgentExecutor(verbose=True, agent=RunnableAgent(runnable=RunnableAssign(mapper={\n",
       "  agent_scratchpad: RunnableLambda(lambda x: format_log_to_str(x['intermediate_steps']))\n",
       "})\n",
       "| PromptTemplate(input_variables=['agent_scratchpad', 'input'], partial_variables={'tools': 'Search: 当大模型没有相关知识时，用于搜索知识', 'tool_names': 'Search'}, template='Answer the following questions as best you can. You have access to the following tools:\\n\\n{tools}\\n\\nUse the following format:\\n\\nQuestion: the input question you must answer\\nThought: you should always think about what to do\\nAction: the action to take, should be one of [{tool_names}]\\nAction Input: the input to the action\\nObservation: the result of the action\\n... (this Thought/Action/Action Input/Observation can repeat N times)\\nThought: I now know the final answer\\nFinal Answer: the final answer to the original input question\\n\\nBegin!\\n\\nQuestion: {input}\\nThought:{agent_scratchpad}')\n",
       "| RunnableBinding(bound=ChatOpenAI(client=<openai.resources.chat.completions.Completions object at 0x7fe2211738b0>, async_client=<openai.resources.chat.completions.AsyncCompletions object at 0x7fe221170100>, model_name='gpt-4o', openai_api_key=SecretStr('**********'), openai_proxy=''), kwargs={'stop': ['\\nObservation']})\n",
       "| ReActSingleInputOutputParser(), input_keys_arg=[], return_keys_arg=[], stream_runnable=True), tools=[Tool(name='Search', description='当大模型没有相关知识时，用于搜索知识', func=<bound method SerpAPIWrapper.run of SerpAPIWrapper(search_engine=<class 'serpapi.google_search.GoogleSearch'>, params={'engine': 'google', 'google_domain': 'google.com', 'gl': 'us', 'hl': 'en'}, serpapi_api_key='9a385efcc26ec0f5eb7a576dedd111bb8d8a3e2b616eb78a302db84f1a435d75', aiosession=None)>)])"
      ]
     },
     "execution_count": 6,
     "metadata": {},
     "output_type": "execute_result"
    }
   ],
   "source": [
    "# 创建代理执行器并传入代理和工具\n",
    "agent_executor = AgentExecutor(agent=agent, tools=tools, verbose=True)\n",
    "agent_executor"
   ]
  },
  {
   "cell_type": "code",
   "execution_count": 7,
   "id": "63c693da-a4b1-4de2-9c6a-891b6b559603",
   "metadata": {},
   "outputs": [
    {
     "name": "stdout",
     "output_type": "stream",
     "text": [
      "第一次运行的结果：\n",
      "\n",
      "\n",
      "\u001b[1m> Entering new AgentExecutor chain...\u001b[0m\n",
      "\u001b[32;1m\u001b[1;3m为了回答这个问题，我需要查找最新的研究进展。\n",
      "\n",
      "Action: Search\n",
      "Action Input: \"当前Agent最新研究进展 2023\"\u001b[0m\u001b[36;1m\u001b[1;3m['... 研究者的社会交互性和智能性问题都随着大语言模型（LLM）的发展有了新的解决方向。 为方便大家了解AI Agent领域的最新研究进展，学姐这回整理了52篇2023 ...', '一、通往AGI 的道路，AI Agent 是当前主线 · 二、AI Agent火爆出圈，实在智能行业首发塔斯Agent智能体 · 三、实在智能遥遥领先，开启AI Agent数字助理的人机 ...', '有的研究者会尝试使用大模型写小说，借鉴LSTM这个经典深度网络的思想发明RecurrentGPT，还引入了长时记忆和短时记忆机制，使模型拥有了更佳的记忆和学习 ...', '2023 年3 月起，AI Agent 领域迎来了第一次“出圈”，西部世界小镇、BabyAGI、AutoGPT 等多款重大Agent 研究项目均在短短两周内陆续上线，引发了大家对AI Agent 领域的关注。', '我们整理汇总了2023年大语言模型智能体规划技术(LLM Agent Planning)主要研究进展，并提供每个研究的概要和关键结果，希望能够启发更多相关的研究。', '嘉宾们分享了生成式AI 最新技术进展，以及其在医疗、教育、工业等重要领域落地的关键经验，探讨了AI Agent 的落地前景。 复旦NLP 实验室核心成员张奇.', '大语言模型的浪潮推动了AI Agent 相关研究快速发展，AI Agent是当前通往AGI 的主要探索路线。 ... 总的来说，自主智能体的研究进展迅速，展现出巨大的潜力和 ...', '记忆能力和长Token能力是当前很多团队的攻坚重点：刚发布的Gemeni1.5在研究中达到10M的Token长度，比GPT4整整多出两个数量级；ChatGPT也在近期官宣了“记忆能力”；国内最 ...', '通过阅读这篇报告，可以结合其他技术趋势综合了解AI Agent的最新进展和未来趋势，为研究和工作提供有益的参考。 ... 研报十：至顶智库《2023年全球生成式AI ...', '近期， 复旦大学 自然语言处理 团队（FudanNLP）推出LLM-based Agents 综述论文，全文长达86 页，共有600 余篇参考文献！作者们从AI Agent 的历史 ...']\u001b[0m\u001b[32;1m\u001b[1;3m通过搜索结果，我了解到一些关于2023年AI Agent最新研究进展的内容：\n",
      "\n",
      "1. **大语言模型（LLM）的发展**：大语言模型的进步推动了AI Agent研究的快速发展，特别是在社会交互性和智能性方面取得了新的突破。\n",
      "\n",
      "2. **重大项目上线**：从2023年3月起，西部世界小镇、BabyAGI、AutoGPT等多款重大Agent研究项目在短时间内陆续上线，引发了广泛关注。\n",
      "\n",
      "3. **记忆能力和长Token能力**：这是当前很多研究团队的攻坚重点。例如，刚发布的Gemeni1.5在研究中达到10M的Token长度，比GPT4多出两个数量级；ChatGPT也在近期官宣了其“记忆能力”。\n",
      "\n",
      "4. **LLM Agent Planning**：2023年大语言模型智能体规划技术（LLM Agent Planning）也有显著进展，这些研究提供了概要和关键结果，激发了更多相关研究。\n",
      "\n",
      "5. **生成式AI的落地**：生成式AI技术在医疗、教育和工业等重要领域的应用是当前研究的一个重要方向。\n",
      "\n",
      "6. **核心综述论文**：复旦大学自然语言处理团队推出了基于大语言模型的Agents综述论文，涵盖了600余篇参考文献，详尽地介绍了AI Agent的历史和最新进展。\n",
      "\n",
      "这些进展展示了AI Agent领域在2023年的研究方向和突破，特别是在大语言模型的应用、记忆能力的增强和实际落地方面。\n",
      "\n",
      "Final Answer: 2023年AI Agent领域的最新研究进展包括大语言模型的发展、重大项目的上线、记忆能力和长Token能力的增强、LLM Agent Planning技术的进展，以及生成式AI在医疗、教育和工业等领域的应用。此外，复旦大学自然语言处理团队推出了一篇详尽的综述论文，涵盖了大量参考文献，全面介绍了AI Agent的历史和最新进展。\u001b[0m\n",
      "\n",
      "\u001b[1m> Finished chain.\u001b[0m\n"
     ]
    },
    {
     "data": {
      "text/plain": [
       "{'input': '当前Agent最新研究进展是什么?',\n",
       " 'output': '2023年AI Agent领域的最新研究进展包括大语言模型的发展、重大项目的上线、记忆能力和长Token能力的增强、LLM Agent Planning技术的进展，以及生成式AI在医疗、教育和工业等领域的应用。此外，复旦大学自然语言处理团队推出了一篇详尽的综述论文，涵盖了大量参考文献，全面介绍了AI Agent的历史和最新进展。'}"
      ]
     },
     "execution_count": 7,
     "metadata": {},
     "output_type": "execute_result"
    }
   ],
   "source": [
    "# 调用代理执行器，传入输入数据\n",
    "print(\"第一次运行的结果：\")\n",
    "agent_executor.invoke({\"input\": \"当前Agent最新研究进展是什么?\"})"
   ]
  },
  {
   "cell_type": "code",
   "execution_count": 8,
   "id": "00d248d7-54cf-4009-a500-cee95234f657",
   "metadata": {},
   "outputs": [
    {
     "name": "stdout",
     "output_type": "stream",
     "text": [
      "第二次运行的结果：\n",
      "\n",
      "\n",
      "\u001b[1m> Entering new AgentExecutor chain...\u001b[0m\n",
      "\u001b[32;1m\u001b[1;3m要回答这个问题，我需要查找当前关于Agent最新研究进展的信息。\n",
      "\n",
      "Action: Search\n",
      "Action Input: 当前Agent最新研究进展\u001b[0m\u001b[36;1m\u001b[1;3m['清华大学提出的“工具学习”框架，将AI Agents的研究推向了新的高度。在这个框架下，大模型作为“控制器”，不仅能够识别人类的意图，还能组织规划和自主纠错 ...', '... Agent研究者的社会交互性和智能性问题都随着大语言模型（LLM）的发展有了新的解决方向。为方便大家了解AI Agent领域的最新研究进展 ... 当前最先进的基于GPT ...', 'Agent一词在英文中意为“做事的主体”，在AI研究中，Agent被赋予了模仿人类主观能动性的能力，能够主动进行计划、组织、实施和学习，直至完成任务。', '通过阅读这篇报告，可以结合其他技术趋势综合了解AI Agent的最新进展和未来趋势，为研究和工作提供有益的参考。 王吉伟频道认为，对AI Agent研究和应用感 ...', '这篇综述论文针对人工智能Agent的最新进展进行了调研，重点关注了它们在增强推理、规划和工具执行能力的复杂目标的能力。', '当前位置：首页 > RPA最新资讯 > 最新资讯 > AI Agent十大研究方向，数字 ... 总的来说，自主智能体的研究进展迅速，展现出巨大的潜力和前景。', '吴恩达认为，AI智能体工作流可能比下一代基础模型带来更大的AI进展。吴恩达在演讲中重点讲述了AI智能体工作流如何迭代地进行任务，从而比传统的零样本提示 ...', '近期，Agent AI（智能体AI）技术取得了显著进展，并且其应用于实体系统中开启了以更沉浸式、动态且引人入胜的体验与代理人进行交互的新可能性。为了加快 ...', '试着从4月17号最新发布的这篇agent 综述里，提炼了6 个让agent 更智能的方法，以及2种agent 架构的适用场景。 论文链接是arxiv.org ，强烈建议每一位对agent 感兴趣的 ...', '有的研究者会尝试使用大模型写小说，借鉴LSTM这个经典深度网络的思想发明RecurrentGPT，还引入了长时记忆和短时记忆机制，使模型拥有了更佳的记忆和学习 ...']\u001b[0m\u001b[32;1m\u001b[1;3m以下是当前Agent研究的最新进展：\n",
      "\n",
      "1. **工具学习框架**：清华大学提出了“工具学习”框架，将AI Agents的研究推向了新的高度。在这个框架下，大模型作为“控制器”，不仅能够识别人类的意图，还能组织规划和自主纠错。\n",
      "\n",
      "2. **增强推理和规划能力**：最新的研究重点关注AI Agent在增强推理、规划和工具执行能力方面的进展，特别是在处理复杂目标的能力上。\n",
      "\n",
      "3. **AI智能体工作流**：吴恩达强调了AI智能体工作流的重要性，指出这种工作流能够迭代地进行任务，可能比下一代基础模型带来更大的进展。\n",
      "\n",
      "4. **交互体验的提升**：Agent AI技术在实体系统中的应用取得显著进展，提供了更沉浸式、动态且引人入胜的交互体验。\n",
      "\n",
      "5. **智能方法和架构**：研究者们从最新发布的综述论文中提炼了多种让Agent更智能的方法和适用的架构场景，以进一步提升Agent的智能性和适应性。\n",
      "\n",
      "这些进展展示了AI Agent在多个方面的潜力和前景，为未来的研究和应用提供了重要的参考和方向。\n",
      "\n",
      "Final Answer: 当前Agent研究的最新进展包括工具学习框架、增强推理和规划能力、AI智能体工作流、交互体验的提升，以及多种智能方法和架构的探索。这些进展展示了AI Agent在多个方面的潜力和前景。\u001b[0m\n",
      "\n",
      "\u001b[1m> Finished chain.\u001b[0m\n"
     ]
    },
    {
     "data": {
      "text/plain": [
       "{'input': '当前Agent最新研究进展是什么?',\n",
       " 'output': '当前Agent研究的最新进展包括工具学习框架、增强推理和规划能力、AI智能体工作流、交互体验的提升，以及多种智能方法和架构的探索。这些进展展示了AI Agent在多个方面的潜力和前景。'}"
      ]
     },
     "execution_count": 8,
     "metadata": {},
     "output_type": "execute_result"
    }
   ],
   "source": [
    "print(\"第二次运行的结果：\")\n",
    "agent_executor.invoke({\"input\": \"当前Agent最新研究进展是什么?\"})"
   ]
  }
 ],
 "metadata": {
  "kernelspec": {
   "display_name": "agent",
   "language": "python",
   "name": "python3"
  },
  "language_info": {
   "name": "python",
   "version": "3.10.14"
  }
 },
 "nbformat": 4,
 "nbformat_minor": 2
}
