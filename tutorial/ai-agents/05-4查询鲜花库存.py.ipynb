{
 "cells": [
  {
   "cell_type": "markdown",
   "metadata": {},
   "source": [
    "Connected to agent (Python 3.10.14)"
   ]
  },
  {
   "cell_type": "code",
   "execution_count": 1,
   "id": "3089ec60-2f6e-4433-85f1-13404c8e925d",
   "metadata": {},
   "outputs": [
    {
     "data": {
      "text/plain": [
       "True"
      ]
     },
     "execution_count": 1,
     "metadata": {},
     "output_type": "execute_result"
    }
   ],
   "source": [
    "import json\n",
    "from openai import OpenAI\n",
    "from dotenv import load_dotenv\n",
    "\n",
    "load_dotenv(\"../../.env\")"
   ]
  },
  {
   "cell_type": "code",
   "execution_count": 2,
   "id": "5e4a4397-790f-48cc-aa89-d85d46b3c8ce",
   "metadata": {},
   "outputs": [
    {
     "data": {
      "text/plain": [
       "<openai.OpenAI at 0x7f8ee405ff70>"
      ]
     },
     "execution_count": 2,
     "metadata": {},
     "output_type": "execute_result"
    }
   ],
   "source": [
    "client = OpenAI()\n",
    "client"
   ]
  },
  {
   "cell_type": "code",
   "execution_count": 3,
   "id": "ffa75ff9-19a4-4add-939b-a27a63f06048",
   "metadata": {},
   "outputs": [
    {
     "name": "stdout",
     "output_type": "stream",
     "text": [
      "message: [{'role': 'user', 'content': '北京、上海和深圳的鲜花库存是多少？'}]\n"
     ]
    }
   ],
   "source": [
    "# 定义检索鲜花库存的函数\n",
    "def get_flower_inventory(city):\n",
    "    \"\"\"获取指定城市的鲜花库存\"\"\"\n",
    "    if \"北京\" in city:\n",
    "        return json.dumps({\"city\": \"北京\", \"inventory\": \"玫瑰: 100, 郁金香: 150\"})\n",
    "    elif \"上海\" in city:\n",
    "        return json.dumps({\"city\": \"上海\", \"inventory\": \"百合: 80, 康乃馨: 120\"})\n",
    "    elif \"深圳\" in city:\n",
    "        return json.dumps({\"city\": \"深圳\", \"inventory\": \"向日葵: 200, 玉兰: 90\"})\n",
    "    else:\n",
    "        return json.dumps({\"city\": city, \"inventory\": \"未知\"})\n",
    "\n",
    "# 工具（也就是函数）的元数据\n",
    "tools = [\n",
    "    {\n",
    "        \"type\": \"function\",\n",
    "        \"function\": {\n",
    "            \"name\": \"get_flower_inventory\",\n",
    "            \"description\": \"获取指定城市的鲜花库存\",\n",
    "            \"parameters\": {\n",
    "                \"type\": \"object\",\n",
    "                \"properties\": {\n",
    "                    \"city\": {\n",
    "                        \"type\": \"string\",\n",
    "                        \"description\": \"城市名称，例如：北京、上海或深圳\"\n",
    "                    }\n",
    "                },\n",
    "                \"required\": [\"city\"]\n",
    "            }\n",
    "        }\n",
    "    }\n",
    "]\n",
    "\n",
    "# 第一次对话的Message\n",
    "messages = [{\"role\": \"user\", \"content\": \"北京、上海和深圳的鲜花库存是多少？\"}]\n",
    "print(\"message:\", messages)"
   ]
  },
  {
   "cell_type": "code",
   "execution_count": 4,
   "id": "18995d6a-c232-480f-9207-984d748c0acd",
   "metadata": {},
   "outputs": [
    {
     "name": "stdout",
     "output_type": "stream",
     "text": [
      "first_response: ChatCompletion(id='chatcmpl-9gCgFzR9YvIgYgi6pPlDm5s5bTARl', choices=[Choice(finish_reason='tool_calls', index=0, logprobs=None, message=ChatCompletionMessage(content=None, role='assistant', function_call=None, tool_calls=[ChatCompletionMessageToolCall(id='call_IavKkzEHwy3ORDikFwh2CELu', function=Function(arguments='{\"city\": \"北京\"}', name='get_flower_inventory'), type='function'), ChatCompletionMessageToolCall(id='call_Y0NIsjAkxMRmpqFMkwqI7Jcy', function=Function(arguments='{\"city\": \"上海\"}', name='get_flower_inventory'), type='function'), ChatCompletionMessageToolCall(id='call_Sv0JEiJueQnBtNh0thOmGnUE', function=Function(arguments='{\"city\": \"深圳\"}', name='get_flower_inventory'), type='function')]))], created=1719845547, model='gpt-3.5-turbo-0125', object='chat.completion', system_fingerprint=None, usage=CompletionUsage(completion_tokens=67, prompt_tokens=95, total_tokens=162))\n"
     ]
    }
   ],
   "source": [
    "# 第一次对话的返回结果\n",
    "first_response = client.chat.completions.create(\n",
    "    model=\"gpt-3.5-turbo-0125\",\n",
    "    messages=messages,\n",
    "    tools=tools,\n",
    "    tool_choice=\"auto\"\n",
    ")\n",
    "print(\"first_response:\", first_response)"
   ]
  },
  {
   "cell_type": "code",
   "execution_count": 5,
   "id": "f2c81b93-5b3d-493a-91a9-60741072ba53",
   "metadata": {},
   "outputs": [
    {
     "name": "stdout",
     "output_type": "stream",
     "text": [
      "message: [{'role': 'user', 'content': '北京、上海和深圳的鲜花库存是多少？'}, ChatCompletionMessage(content=None, role='assistant', function_call=None, tool_calls=[ChatCompletionMessageToolCall(id='call_IavKkzEHwy3ORDikFwh2CELu', function=Function(arguments='{\"city\": \"北京\"}', name='get_flower_inventory'), type='function'), ChatCompletionMessageToolCall(id='call_Y0NIsjAkxMRmpqFMkwqI7Jcy', function=Function(arguments='{\"city\": \"上海\"}', name='get_flower_inventory'), type='function'), ChatCompletionMessageToolCall(id='call_Sv0JEiJueQnBtNh0thOmGnUE', function=Function(arguments='{\"city\": \"深圳\"}', name='get_flower_inventory'), type='function')]), {'tool_call_id': 'call_IavKkzEHwy3ORDikFwh2CELu', 'role': 'tool', 'name': 'get_flower_inventory', 'content': '{\"city\": \"\\\\u5317\\\\u4eac\", \"inventory\": \"\\\\u73ab\\\\u7470: 100, \\\\u90c1\\\\u91d1\\\\u9999: 150\"}'}, {'tool_call_id': 'call_Y0NIsjAkxMRmpqFMkwqI7Jcy', 'role': 'tool', 'name': 'get_flower_inventory', 'content': '{\"city\": \"\\\\u4e0a\\\\u6d77\", \"inventory\": \"\\\\u767e\\\\u5408: 80, \\\\u5eb7\\\\u4e43\\\\u99a8: 120\"}'}, {'tool_call_id': 'call_Sv0JEiJueQnBtNh0thOmGnUE', 'role': 'tool', 'name': 'get_flower_inventory', 'content': '{\"city\": \"\\\\u6df1\\\\u5733\", \"inventory\": \"\\\\u5411\\\\u65e5\\\\u8475: 200, \\\\u7389\\\\u5170: 90\"}'}]\n"
     ]
    }
   ],
   "source": [
    "response_message = first_response.choices[0].message\n",
    "tool_calls = response_message.tool_calls\n",
    "\n",
    "# 如果返回结果要求用Function Call，就调用函数，并把函数的查询结果附加到消息中\n",
    "if tool_calls:\n",
    "    messages.append(response_message)\n",
    "    for tool_call in tool_calls:\n",
    "        function_name = tool_call.function.name\n",
    "        function_args = json.loads(tool_call.function.arguments)\n",
    "        function_response = get_flower_inventory(\n",
    "            city = function_args.get(\"city\")\n",
    "        )\n",
    "        messages.append(\n",
    "            {\n",
    "                \"tool_call_id\": tool_call.id,\n",
    "                \"role\": \"tool\",\n",
    "                \"name\": function_name,\n",
    "                \"content\": function_response,\n",
    "            }\n",
    "        )\n",
    "print(\"message:\", messages)"
   ]
  },
  {
   "cell_type": "code",
   "execution_count": 6,
   "id": "da555f81-353b-4ea7-9ef1-ba78bf844e84",
   "metadata": {},
   "outputs": [
    {
     "name": "stdout",
     "output_type": "stream",
     "text": [
      "second_response: ChatCompletion(id='chatcmpl-9gCgHeGTnDZBYP6k2opMS4MQ4qJau', choices=[Choice(finish_reason='stop', index=0, logprobs=None, message=ChatCompletionMessage(content='北京的鲜花库存为：玫瑰 100支、牡丹香 150支。\\n\\n上海的鲜花库存为：百合 80支、康乃馨 120支。\\n\\n深圳的鲜花库存为：向日葵 200支、玉兰 90支。', role='assistant', function_call=None, tool_calls=None))], created=1719845549, model='gpt-3.5-turbo-0125', object='chat.completion', system_fingerprint=None, usage=CompletionUsage(completion_tokens=90, prompt_tokens=235, total_tokens=325))\n"
     ]
    }
   ],
   "source": [
    "# 用有了库存查询结果的Message再来一次对话\n",
    "second_response = client.chat.completions.create(\n",
    "    model=\"gpt-3.5-turbo-0125\",\n",
    "    messages=messages\n",
    "    )\n",
    "print(\"second_response:\", second_response)"
   ]
  }
 ],
 "metadata": {
  "kernelspec": {
   "display_name": "agent",
   "language": "python",
   "name": "python3"
  },
  "language_info": {
   "name": "python",
   "version": "3.10.14"
  }
 },
 "nbformat": 4,
 "nbformat_minor": 2
}
